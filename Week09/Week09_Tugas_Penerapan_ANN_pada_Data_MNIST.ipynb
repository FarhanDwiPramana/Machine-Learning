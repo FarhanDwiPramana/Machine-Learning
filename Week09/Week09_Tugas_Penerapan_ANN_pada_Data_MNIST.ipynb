{
  "nbformat": 4,
  "nbformat_minor": 0,
  "metadata": {
    "colab": {
      "provenance": []
    },
    "kernelspec": {
      "name": "python3",
      "display_name": "Python 3"
    },
    "language_info": {
      "name": "python"
    }
  },
  "cells": [
    {
      "cell_type": "markdown",
      "source": [
        "# Tugas\n",
        "- Lakukan klasifikasi pada data MNIST dengan menggunakan model ANN\n",
        "- Anda diperbolehkan melakukan eksplorasi terhadap,\n",
        " - Metode pra pengolahan\n",
        " - Pemilihan fitur\n",
        " - Arsitektur ANN\n",
        " - Fungsi Aktiviasi\n",
        "- ANN diimplementasikan dengan menggunakan tensorflow.\n",
        "- **DIKERJAKAN SECARA BERKELOMPOK**\n",
        "- **JELASKAN HASIL YANG ANDA DAPATKAN,**\n",
        " - **AKURASI**\n",
        " - **CONFUSION MATRIX**\n",
        " - **KONFIGURASI MODEL --> MULAI DARI PRA PENGOLAHAN SAMPAI ARSITEKTUR ANN**"
      ],
      "metadata": {
        "id": "G3lL-vKnN4Tw"
      }
    },
    {
      "cell_type": "markdown",
      "source": [
        "# Pra Pengolahan Data"
      ],
      "metadata": {
        "id": "zQd1_ZbNVMBu"
      }
    },
    {
      "cell_type": "markdown",
      "source": [
        "## Langkah 1 - Import Library"
      ],
      "metadata": {
        "id": "s8NG7ek5VORw"
      }
    },
    {
      "cell_type": "code",
      "source": [
        "import numpy as np\n",
        "import matplotlib.pyplot as plt\n",
        "import seaborn as sns\n",
        "from sklearn.decomposition import PCA\n",
        "from sklearn.preprocessing import StandardScaler\n",
        "from sklearn.model_selection import train_test_split\n",
        "from sklearn.metrics import accuracy_score, confusion_matrix\n",
        "import tensorflow as tf\n",
        "from tensorflow.keras.datasets import mnist"
      ],
      "metadata": {
        "id": "zE4A4H6eVRk9"
      },
      "execution_count": null,
      "outputs": []
    },
    {
      "cell_type": "markdown",
      "source": [
        "## Langkah 2 - Load Data"
      ],
      "metadata": {
        "id": "fBrbzmdhVX6W"
      }
    },
    {
      "cell_type": "code",
      "source": [
        "# Memuat data MNIST\n",
        "(x_train, y_train), (x_test, y_test) = mnist.load_data()"
      ],
      "metadata": {
        "id": "tLE2VLYsVWrc"
      },
      "execution_count": null,
      "outputs": []
    },
    {
      "cell_type": "markdown",
      "source": [
        "## Langkah 3 - Pengecekan Data MINST"
      ],
      "metadata": {
        "id": "QGIgqWzBVgRC"
      }
    },
    {
      "cell_type": "code",
      "source": [
        "# Menghitung jumlah data keseluruhan\n",
        "total_data = len(y_train)\n",
        "print(f\"Jumlah data keseluruhan: {total_data}\")\n",
        "\n",
        "# Menghitung jumlah data MNIST untuk setiap label\n",
        "label_counts = np.bincount(y_train)\n",
        "for label, count in enumerate(label_counts):\n",
        "    print(f\"Jumlah data dengan label {label}: {count}\")\n",
        "\n",
        "# Menampilkan dimensi data\n",
        "data_shape = x_train[0].shape\n",
        "print(f\"Dimensi data: {data_shape}\")"
      ],
      "metadata": {
        "colab": {
          "base_uri": "https://localhost:8080/"
        },
        "id": "EagQbMQ4VoeS",
        "outputId": "75ff69b5-c8a7-4b52-a66a-f85cb8eebb46"
      },
      "execution_count": null,
      "outputs": [
        {
          "output_type": "stream",
          "name": "stdout",
          "text": [
            "Jumlah data keseluruhan: 60000\n",
            "Jumlah data dengan label 0: 5923\n",
            "Jumlah data dengan label 1: 6742\n",
            "Jumlah data dengan label 2: 5958\n",
            "Jumlah data dengan label 3: 6131\n",
            "Jumlah data dengan label 4: 5842\n",
            "Jumlah data dengan label 5: 5421\n",
            "Jumlah data dengan label 6: 5918\n",
            "Jumlah data dengan label 7: 6265\n",
            "Jumlah data dengan label 8: 5851\n",
            "Jumlah data dengan label 9: 5949\n",
            "Dimensi data: (28, 28)\n"
          ]
        }
      ]
    },
    {
      "cell_type": "markdown",
      "source": [
        "## Langkah 4 - Ekstraksi Fitur dengan PCA"
      ],
      "metadata": {
        "id": "TN6JtKkjVyng"
      }
    },
    {
      "cell_type": "code",
      "source": [
        "# Melakukan ekstraksi fitur menggunakan PCA\n",
        "pca = PCA(n_components=50)\n",
        "x_train_pca = pca.fit_transform(x_train.reshape(-1, 28*28))\n",
        "x_test_pca = pca.transform(x_test.reshape(-1, 28*28))"
      ],
      "metadata": {
        "id": "yy6bjGm2V9UW"
      },
      "execution_count": null,
      "outputs": []
    },
    {
      "cell_type": "markdown",
      "source": [
        "## Langkah 5 - Scaling Fitur"
      ],
      "metadata": {
        "id": "e98WkxHEV_8q"
      }
    },
    {
      "cell_type": "code",
      "source": [
        "# Melakukan penskalaan fitur\n",
        "sc = StandardScaler()\n",
        "x_train_pca = sc.fit_transform(x_train_pca)\n",
        "x_test_pca = sc.transform(x_test_pca)"
      ],
      "metadata": {
        "id": "GUsfanU1WIBe"
      },
      "execution_count": null,
      "outputs": []
    },
    {
      "cell_type": "markdown",
      "source": [
        "## Langkah 6 - Split Data"
      ],
      "metadata": {
        "id": "q3YU7r7AWNZP"
      }
    },
    {
      "cell_type": "code",
      "source": [
        "# Membagi data menjadi data latih dan data uji\n",
        "X_train, X_val, y_train, y_val = train_test_split(x_train_pca, y_train, test_size=0.2, random_state=0)"
      ],
      "metadata": {
        "id": "x0676mlMWQKl"
      },
      "execution_count": null,
      "outputs": []
    },
    {
      "cell_type": "markdown",
      "source": [
        "# Membuat Model ANN"
      ],
      "metadata": {
        "id": "reZIgH9SWTTz"
      }
    },
    {
      "cell_type": "markdown",
      "source": [
        "## Langkah 1 - Inisiasi Model ANN#\n",
        "\n"
      ],
      "metadata": {
        "id": "YEjTUoakWZxe"
      }
    },
    {
      "cell_type": "code",
      "source": [
        "ann = tf.keras.models.Sequential()"
      ],
      "metadata": {
        "id": "8DYPNOXvWpd1"
      },
      "execution_count": null,
      "outputs": []
    },
    {
      "cell_type": "markdown",
      "source": [
        "## Langkah 2 - Membuat Input Layer dan Hidden Layer Pertama"
      ],
      "metadata": {
        "id": "ejjsbcjaWuLO"
      }
    },
    {
      "cell_type": "code",
      "source": [
        "ann.add(tf.keras.layers.Dense(units=128, activation='relu'))"
      ],
      "metadata": {
        "id": "U1ZsornrWtKT"
      },
      "execution_count": null,
      "outputs": []
    },
    {
      "cell_type": "markdown",
      "source": [
        "## Langkah 3 - Membuat Hidden Layer Kedua"
      ],
      "metadata": {
        "id": "cotqzyUyW2IZ"
      }
    },
    {
      "cell_type": "code",
      "source": [
        "ann.add(tf.keras.layers.Dense(units=64, activation='relu'))"
      ],
      "metadata": {
        "id": "Z-Chi2ucW6rN"
      },
      "execution_count": null,
      "outputs": []
    },
    {
      "cell_type": "markdown",
      "source": [
        "## Langkah 4 - Membuat Output Layer"
      ],
      "metadata": {
        "id": "9R1-_pY5XZDd"
      }
    },
    {
      "cell_type": "code",
      "source": [
        "ann.add(tf.keras.layers.Dense(units=10, activation='softmax'))"
      ],
      "metadata": {
        "id": "trETGzgeXjX3"
      },
      "execution_count": null,
      "outputs": []
    },
    {
      "cell_type": "markdown",
      "source": [
        "# Training Model"
      ],
      "metadata": {
        "id": "QqHN0u0CXn-X"
      }
    },
    {
      "cell_type": "markdown",
      "source": [
        "## Langkah 1 - Compile Model"
      ],
      "metadata": {
        "id": "jk2Yns7mXo3a"
      }
    },
    {
      "cell_type": "code",
      "source": [
        "# Mengompilasi model\n",
        "ann.compile(optimizer='adam', loss='sparse_categorical_crossentropy', metrics=['accuracy'])"
      ],
      "metadata": {
        "id": "q8WEw1L5XuJ9"
      },
      "execution_count": null,
      "outputs": []
    },
    {
      "cell_type": "markdown",
      "source": [
        "## Langkah 2 - Fitting Model"
      ],
      "metadata": {
        "id": "nm7vg-xdXxEd"
      }
    },
    {
      "cell_type": "code",
      "source": [
        "# Melatih model\n",
        "history = ann.fit(X_train, y_train, batch_size=32, epochs=10, validation_data=(X_val, y_val))"
      ],
      "metadata": {
        "colab": {
          "base_uri": "https://localhost:8080/"
        },
        "id": "kXWgbJadX0Dy",
        "outputId": "b31f4fd5-de67-4a5d-9034-24c5b1e70b0c"
      },
      "execution_count": null,
      "outputs": [
        {
          "output_type": "stream",
          "name": "stdout",
          "text": [
            "Epoch 1/10\n",
            "1500/1500 [==============================] - 6s 4ms/step - loss: 0.3460 - accuracy: 0.9027 - val_loss: 0.1474 - val_accuracy: 0.9555\n",
            "Epoch 2/10\n",
            "1500/1500 [==============================] - 4s 3ms/step - loss: 0.1229 - accuracy: 0.9639 - val_loss: 0.1084 - val_accuracy: 0.9674\n",
            "Epoch 3/10\n",
            "1500/1500 [==============================] - 4s 3ms/step - loss: 0.0860 - accuracy: 0.9746 - val_loss: 0.0979 - val_accuracy: 0.9688\n",
            "Epoch 4/10\n",
            "1500/1500 [==============================] - 5s 3ms/step - loss: 0.0647 - accuracy: 0.9804 - val_loss: 0.0930 - val_accuracy: 0.9704\n",
            "Epoch 5/10\n",
            "1500/1500 [==============================] - 4s 3ms/step - loss: 0.0522 - accuracy: 0.9830 - val_loss: 0.0882 - val_accuracy: 0.9733\n",
            "Epoch 6/10\n",
            "1500/1500 [==============================] - 4s 3ms/step - loss: 0.0430 - accuracy: 0.9864 - val_loss: 0.0963 - val_accuracy: 0.9715\n",
            "Epoch 7/10\n",
            "1500/1500 [==============================] - 5s 4ms/step - loss: 0.0379 - accuracy: 0.9880 - val_loss: 0.0925 - val_accuracy: 0.9732\n",
            "Epoch 8/10\n",
            "1500/1500 [==============================] - 4s 3ms/step - loss: 0.0316 - accuracy: 0.9896 - val_loss: 0.0994 - val_accuracy: 0.9731\n",
            "Epoch 9/10\n",
            "1500/1500 [==============================] - 4s 3ms/step - loss: 0.0274 - accuracy: 0.9913 - val_loss: 0.1012 - val_accuracy: 0.9734\n",
            "Epoch 10/10\n",
            "1500/1500 [==============================] - 5s 4ms/step - loss: 0.0230 - accuracy: 0.9927 - val_loss: 0.1024 - val_accuracy: 0.9739\n"
          ]
        }
      ]
    },
    {
      "cell_type": "markdown",
      "source": [
        "# Membuat Prediksi pada Data Testing\n",
        "\n"
      ],
      "metadata": {
        "id": "N70bGGImYBM0"
      }
    },
    {
      "cell_type": "code",
      "source": [
        "# Membuat prediksi pada data pengujian\n",
        "y_pred = np.argmax(ann.predict(x_test_pca), axis=1)"
      ],
      "metadata": {
        "colab": {
          "base_uri": "https://localhost:8080/"
        },
        "id": "TbW-MnDiYF1z",
        "outputId": "cf56d68f-3a36-4593-c170-266d5496b178"
      },
      "execution_count": null,
      "outputs": [
        {
          "output_type": "stream",
          "name": "stdout",
          "text": [
            "313/313 [==============================] - 1s 1ms/step\n"
          ]
        }
      ]
    },
    {
      "cell_type": "markdown",
      "source": [
        "# Cek Akurasi dan Confusion Matrix"
      ],
      "metadata": {
        "id": "VBj_HJYLYPyb"
      }
    },
    {
      "cell_type": "code",
      "source": [
        "# Menghitung akurasi\n",
        "accuracy = accuracy_score(y_test, y_pred)\n",
        "print(\"Akurasi:\", accuracy)\n",
        "\n",
        "# Menampilkan confusion matrix sebagai heatmap\n",
        "confusion_mat = confusion_matrix(y_test, y_pred)\n",
        "plt.figure(figsize=(8, 6))\n",
        "sns.heatmap(confusion_mat, annot=True, fmt='d', cmap='Blues', xticklabels=range(10), yticklabels=range(10))\n",
        "plt.xlabel('Prediksi')\n",
        "plt.ylabel('Aktual')\n",
        "plt.title('Confusion Matrix')\n",
        "plt.show()"
      ],
      "metadata": {
        "colab": {
          "base_uri": "https://localhost:8080/",
          "height": 581
        },
        "id": "L3T_V7CIYTi7",
        "outputId": "b98192d0-a059-4553-eaaa-4f881d4baece"
      },
      "execution_count": null,
      "outputs": [
        {
          "output_type": "stream",
          "name": "stdout",
          "text": [
            "Akurasi: 0.9758\n"
          ]
        },
        {
          "output_type": "display_data",
          "data": {
            "text/plain": [
              "<Figure size 800x600 with 2 Axes>"
            ],
            "image/png": "[encoded data removed]"
          },
          "metadata": {}
        }
      ]
    }
  ]
}