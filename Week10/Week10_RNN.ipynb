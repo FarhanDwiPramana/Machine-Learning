{
  "cells": [
    {
      "cell_type": "markdown",
      "metadata": {
        "id": "K5_bq-Doy8lF"
      },
      "source": [
        "# PRAKTIKUM 1\n",
        "RNN untuk Analisis Sentimen\n",
        "\n",
        "### Setup\n",
        "Impor matplotlib dan buat fungsi pembantu untuk memplot grafik:"
      ]
    },
    {
      "cell_type": "code",
      "execution_count": 4,
      "metadata": {
        "id": "U3EnbAgBy47q"
      },
      "outputs": [],
      "source": [
        "import numpy as np\n",
        "import tensorflow_datasets as tfds\n",
        "import tensorflow as tf\n",
        "import matplotlib.pyplot as plt\n",
        "\n",
        "\n",
        "tfds.disable_progress_bar()"
      ]
    },
    {
      "cell_type": "code",
      "execution_count": 5,
      "metadata": {
        "id": "VEiN_ZU-zGjd"
      },
      "outputs": [],
      "source": [
        "def plot_graphs(history, metric):\n",
        "    plt.plot(history.history[metric])\n",
        "    plt.plot(history.history['val_'+metric], '')\n",
        "    plt.xlabel(\"Epochs\")\n",
        "    plt.ylabel(metric)\n",
        "    plt.legend([metric, 'val_'+metric])"
      ]
    },
    {
      "cell_type": "markdown",
      "metadata": {
        "id": "mRDce-8sGuRw"
      },
      "source": [
        "### Setup input pipeline\n",
        "Dataset ulasan film IMDB adalah kumpulan data klasifikasi biner—semua ulasan memiliki sentimen positif atau negatif.\n",
        "Download dataset menggunakan TFDS. Lihat loading text tutorial jika ingin me load data secara manual"
      ]
    },
    {
      "cell_type": "code",
      "execution_count": 6,
      "metadata": {
        "colab": {
          "base_uri": "https://localhost:8080/"
        },
        "id": "pURplalOzIWq",
        "outputId": "af573f0f-26ff-41f0-8aee-9ed97ec5811e"
      },
      "outputs": [
        {
          "output_type": "stream",
          "name": "stdout",
          "text": [
            "Downloading and preparing dataset 80.23 MiB (download: 80.23 MiB, generated: Unknown size, total: 80.23 MiB) to /root/tensorflow_datasets/imdb_reviews/plain_text/1.0.0...\n",
            "Dataset imdb_reviews downloaded and prepared to /root/tensorflow_datasets/imdb_reviews/plain_text/1.0.0. Subsequent calls will reuse this data.\n"
          ]
        },
        {
          "output_type": "execute_result",
          "data": {
            "text/plain": [
              "(TensorSpec(shape=(), dtype=tf.string, name=None),\n",
              " TensorSpec(shape=(), dtype=tf.int64, name=None))"
            ]
          },
          "metadata": {},
          "execution_count": 6
        }
      ],
      "source": [
        "dataset, info = tfds.load('imdb_reviews', with_info=True,\n",
        "                          as_supervised=True)\n",
        "train_dataset, test_dataset = dataset['train'], dataset['test']\n",
        "\n",
        "train_dataset.element_spec"
      ]
    },
    {
      "cell_type": "markdown",
      "metadata": {
        "id": "k8zf4dSrG4sh"
      },
      "source": [
        "Awalnya ini mengembalikan dataset (teks, pasangan label):"
      ]
    },
    {
      "cell_type": "code",
      "execution_count": 7,
      "metadata": {
        "colab": {
          "base_uri": "https://localhost:8080/"
        },
        "id": "dw4htdyLG3lO",
        "outputId": "8c54a88c-2f81-43a5-9d28-70bc9b030997"
      },
      "outputs": [
        {
          "output_type": "stream",
          "name": "stdout",
          "text": [
            "text:  b\"This was an absolutely terrible movie. Don't be lured in by Christopher Walken or Michael Ironside. Both are great actors, but this must simply be their worst role in history. Even their great acting could not redeem this movie's ridiculous storyline. This movie is an early nineties US propaganda piece. The most pathetic scenes were those when the Columbian rebels were making their cases for revolutions. Maria Conchita Alonso appeared phony, and her pseudo-love affair with Walken was nothing but a pathetic emotional plug in a movie that was devoid of any real meaning. I am disappointed that there are movies like this, ruining actor's like Christopher Walken's good name. I could barely sit through it.\"\n",
            "label:  0\n"
          ]
        }
      ],
      "source": [
        "for example, label in train_dataset.take(1):\n",
        "  print('text: ', example.numpy())\n",
        "  print('label: ', label.numpy())"
      ]
    },
    {
      "cell_type": "markdown",
      "metadata": {
        "id": "T8UaOyUkG6_A"
      },
      "source": [
        "Berikutnya acak data untuk pelatihan dan membuat kumpulan pasangan (teks, label) ini:"
      ]
    },
    {
      "cell_type": "code",
      "execution_count": 8,
      "metadata": {
        "colab": {
          "base_uri": "https://localhost:8080/"
        },
        "id": "pR96qQl4G7hi",
        "outputId": "a5041a05-f5c3-4fca-f4fe-e47548a96448"
      },
      "outputs": [
        {
          "output_type": "stream",
          "name": "stdout",
          "text": [
            "texts:  [b\"I've seen a lot of crap in my day, but goodness, Hot Rod takes the cake. I saw a free screening in NY the other night. I can only hope they show the funny version to the paying customers. The big laughs were sparse, the plot was uninteresting, and the characters were one dimensional at best. One highlight is a hilarious dancing scene with Adam Samberg. It was priceless and was the only scene I truly had a hearty laugh at. Other than that, I can only recollect randomness and dead air. SNL & Samberg fans may be disappointed. I know I was expecting more from it. But it short, I definitely would not recommend attending a free screening or paying to watch this film.\"\n",
            " b'\"This story is dedicated to women,\" according to the introduction, \"who have been fighting for their rights ever since Adam and Eve started the loose-leaf system.\" When \"Politics\" was filmed, the Nineteenth Amendment, guaranteeing women the right to vote, was only a decade old. And, the film deals with the wielding of political power by women as a voting group. Advocating prohibition, and shutting down speakeasies, was a main concern for women at the time.<br /><br />Good-natured Marie Dressler (as Hattie Burns) becomes politically active, after a young woman is shot and killed coming out of a speakeasy. She wants the liquor-selling joints closed; and, is drafted into a Mayoral run, after delivering a powerful speech at a women\\'s rally. Ms. Dressler is supported by her tenants, best friend Polly Moran (as Ivy Higgins) and her stuttering husband Roscoe Ates (as Peter Higgins). Dressler\\'s run for Mayor of Lake City draws opposition from men in town; so, Dressler orders the women to go on strike, denying them, \"everything\" in the \"parlor, bedroom, and bath.\" <br /><br />The film sounds much better than it turned out. The humor, frankly, isn\\'t too good; and, it features some unfunny and moderately offensive situations (\"You look like Madame Queen\" refers to an Amos and Andy character). And, the mixing of shootings and slapstick doesn\\'t mix well, this time. Producers might have considered making the film more dramatic, focusing exclusively on Dressler and the characters played by William Bakewell (as Benny Emerson) and Karen Morley (as Myrtle Burns).<br /><br />**** Politics (7/25/31) Charles Reisner ~ Marie Dressler, Polly Moran, Roscoe Ates'\n",
            " b'I decided to watch this because of the recommendations from this site. I would have to say it was worth the effort. However, you should take heed that this film will go on for 210 minutes. If you don\\'t have the staying power, get it on tape and watch it over a couple of nights.<br /><br />Now to the film, what I say will contain \"spoilers\" and if you don\\'t mind, here goes: <br /><br />Alexandre is a promiscuous bum, a womanizer and a gigolo. He lives with an older woman called Marie. Marie owns a retail shop and she provides for Alex. Alex spends his days at caf\\xc3\\xa9s and restaurants. The story reveals that Alex had previously impregnated Gilberte whom he used to live with. Gilberte dumped him for a less attractive man that she did not love because Alex had abused and battered her. At this point, Alex was willing to get a job and and help raise their child before he found out Gilberte had aborted it and planned to marry someone else. <br /><br />By chance, Alexandre meets a nurse nymph called Veronika and they striked up a relationship. Veronika fell in love with Alex for the first time after all the sordid sex she had with men in the past. Marie and Veronika struggles for Alex\\'s affection and had a m\\xc3\\xa9nage \\xc3\\xa0 trois to boot. Finally at the end, it\\'s revealed Veronika is pregnant with Alex\\'s child and Alex asked her to marry him. We assume (as aforesaid with Gilberte\\'s situation) Alexandre will even get a job and be the provider for his new found love and family. There is hope! <br /><br />With the title of \"La Maman et la putain\", I deduce Jean Eustache was relating to Fran\\xc3\\xa7oise Lebrun\\'s character of Veronika. She was a whore and then she became the mother. Hence, the mother and whore is the same person? Anyway, what do I know! French films are mostly (not all) very chatty, aimlessly political, preaching, theatrical, insipid, lamenting and full of quotes. Lebrun and L\\xc3\\xa9aud played their obdurate characters well and held the film together as some part of the script became a little lost and disjointed. <br /><br />Not a bad effort. 7/10.']\n",
            "\n",
            "labels:  [0 0 1]\n"
          ]
        }
      ],
      "source": [
        "BUFFER_SIZE = 10000\n",
        "BATCH_SIZE = 64\n",
        "\n",
        "train_dataset = train_dataset.shuffle(BUFFER_SIZE).batch(BATCH_SIZE).prefetch(tf.data.AUTOTUNE)\n",
        "test_dataset = test_dataset.batch(BATCH_SIZE).prefetch(tf.data.AUTOTUNE)\n",
        "\n",
        "for example, label in train_dataset.take(1):\n",
        "  print('texts: ', example.numpy()[:3])\n",
        "  print()\n",
        "  print('labels: ', label.numpy()[:3])\n"
      ]
    },
    {
      "cell_type": "markdown",
      "metadata": {
        "id": "Io7TxVB4G953"
      },
      "source": [
        "### Buat Teks Encoder\n",
        "Teks mentah yang dimuat oleh tfds perlu diproses sebelum dapat digunakan dalam model. Cara termudah memproses teks untuk pelatihan adalah menggunakan lapisan TextVectorization. Lapisan ini memiliki banyak kemampuan, namun pada tutorial ini menggunakan perilaku default. Buat lapisan tersebut, dan teruskan teks kumpulan data ke metode .adapt lapisan:"
      ]
    },
    {
      "cell_type": "code",
      "execution_count": 9,
      "metadata": {
        "id": "j51A-6NxHBDA"
      },
      "outputs": [],
      "source": [
        "VOCAB_SIZE = 1000\n",
        "encoder = tf.keras.layers.TextVectorization(\n",
        "    max_tokens=VOCAB_SIZE)\n",
        "encoder.adapt(train_dataset.map(lambda text, label: text))"
      ]
    },
    {
      "cell_type": "markdown",
      "metadata": {
        "id": "11eJ25MrHCkX"
      },
      "source": [
        "Metode .adapt mengatur kosakata lapisan. 20 token pertama dapat dilihat dengan kode berikut. Setelah padding dan token yang tidak diketahui, mereka diurutkan berdasarkan frekuensi:"
      ]
    },
    {
      "cell_type": "code",
      "execution_count": 10,
      "metadata": {
        "colab": {
          "base_uri": "https://localhost:8080/"
        },
        "id": "eQf20zcyHEAR",
        "outputId": "4864c1db-7a9b-4e46-fb17-364eaf237109"
      },
      "outputs": [
        {
          "output_type": "execute_result",
          "data": {
            "text/plain": [
              "array(['', '[UNK]', 'the', 'and', 'a', 'of', 'to', 'is', 'in', 'it', 'i',\n",
              "       'this', 'that', 'br', 'was', 'as', 'for', 'with', 'movie', 'but'],\n",
              "      dtype='<U14')"
            ]
          },
          "metadata": {},
          "execution_count": 10
        }
      ],
      "source": [
        "vocab = np.array(encoder.get_vocabulary())\n",
        "vocab[:20]"
      ]
    },
    {
      "cell_type": "markdown",
      "metadata": {
        "id": "yMlL9EdrHFwA"
      },
      "source": [
        "vocab[:20]\n",
        "Setelah kosakata diatur, lapisan dapat mengkodekan teks ke dalam indeks. Tensor indeks diberi bantalan 0 ke urutan terpanjang dalam batch (kecuali jika Anda menetapkan output_sequence_length tetap):"
      ]
    },
    {
      "cell_type": "code",
      "execution_count": 11,
      "metadata": {
        "colab": {
          "base_uri": "https://localhost:8080/"
        },
        "id": "xZFdXsF8HG_m",
        "outputId": "ff0339bb-08ad-4ce5-f9fd-efdee667bd50"
      },
      "outputs": [
        {
          "output_type": "execute_result",
          "data": {
            "text/plain": [
              "array([[195, 108,   4, ...,   0,   0,   0],\n",
              "       [ 11,  64,   7, ...,   0,   0,   0],\n",
              "       [ 10, 831,   6, ...,   0,   0,   0]])"
            ]
          },
          "metadata": {},
          "execution_count": 11
        }
      ],
      "source": [
        "encoded_example = encoder(example)[:3].numpy()\n",
        "encoded_example"
      ]
    },
    {
      "cell_type": "markdown",
      "metadata": {
        "id": "7I-SthzUHJZl"
      },
      "source": [
        "Dengan pengaturan default, prosesnya tidak dapat dibalik sepenuhnya. Ada dua alasan utama untuk itu:\n",
        "* Nilai default untuk argumen standarisasi preprocessing.TextVectorization adalah \"lower_and_strip_punctuation\".\n",
        "* Ukuran kosa kata yang terbatas dan kurangnya fallback berbasis karakter menghasilkan beberapa token yang tidak diketahui."
      ]
    },
    {
      "cell_type": "code",
      "execution_count": 12,
      "metadata": {
        "colab": {
          "base_uri": "https://localhost:8080/"
        },
        "id": "xSubHZ51HJvE",
        "outputId": "6ff42a07-87d0-47e0-c192-26f8729b24d0"
      },
      "outputs": [
        {
          "output_type": "stream",
          "name": "stdout",
          "text": [
            "Original:  b\"I've seen a lot of crap in my day, but goodness, Hot Rod takes the cake. I saw a free screening in NY the other night. I can only hope they show the funny version to the paying customers. The big laughs were sparse, the plot was uninteresting, and the characters were one dimensional at best. One highlight is a hilarious dancing scene with Adam Samberg. It was priceless and was the only scene I truly had a hearty laugh at. Other than that, I can only recollect randomness and dead air. SNL & Samberg fans may be disappointed. I know I was expecting more from it. But it short, I definitely would not recommend attending a free screening or paying to watch this film.\"\n",
            "Round-trip:  ive seen a lot of crap in my day but [UNK] hot [UNK] takes the [UNK] i saw a free [UNK] in [UNK] the other night i can only hope they show the funny version to the [UNK] [UNK] the big laughs were [UNK] the plot was [UNK] and the characters were one [UNK] at best one [UNK] is a hilarious [UNK] scene with [UNK] [UNK] it was [UNK] and was the only scene i truly had a [UNK] laugh at other than that i can only [UNK] [UNK] and dead air [UNK] [UNK] fans may be disappointed i know i was expecting more from it but it short i definitely would not recommend [UNK] a free [UNK] or [UNK] to watch this film                                                                                                                                                                                                                                                                                                                                                                                                                                                                                                                                                                                                                                                                                                                                                                                                                                                     \n",
            "\n",
            "Original:  b'\"This story is dedicated to women,\" according to the introduction, \"who have been fighting for their rights ever since Adam and Eve started the loose-leaf system.\" When \"Politics\" was filmed, the Nineteenth Amendment, guaranteeing women the right to vote, was only a decade old. And, the film deals with the wielding of political power by women as a voting group. Advocating prohibition, and shutting down speakeasies, was a main concern for women at the time.<br /><br />Good-natured Marie Dressler (as Hattie Burns) becomes politically active, after a young woman is shot and killed coming out of a speakeasy. She wants the liquor-selling joints closed; and, is drafted into a Mayoral run, after delivering a powerful speech at a women\\'s rally. Ms. Dressler is supported by her tenants, best friend Polly Moran (as Ivy Higgins) and her stuttering husband Roscoe Ates (as Peter Higgins). Dressler\\'s run for Mayor of Lake City draws opposition from men in town; so, Dressler orders the women to go on strike, denying them, \"everything\" in the \"parlor, bedroom, and bath.\" <br /><br />The film sounds much better than it turned out. The humor, frankly, isn\\'t too good; and, it features some unfunny and moderately offensive situations (\"You look like Madame Queen\" refers to an Amos and Andy character). And, the mixing of shootings and slapstick doesn\\'t mix well, this time. Producers might have considered making the film more dramatic, focusing exclusively on Dressler and the characters played by William Bakewell (as Benny Emerson) and Karen Morley (as Myrtle Burns).<br /><br />**** Politics (7/25/31) Charles Reisner ~ Marie Dressler, Polly Moran, Roscoe Ates'\n",
            "Round-trip:  this story is [UNK] to women [UNK] to the [UNK] who have been fighting for their [UNK] ever since [UNK] and [UNK] started the [UNK] [UNK] when [UNK] was filmed the [UNK] [UNK] [UNK] women the right to [UNK] was only a [UNK] old and the film [UNK] with the [UNK] of political power by women as a [UNK] group [UNK] [UNK] and [UNK] down [UNK] was a main [UNK] for women at the [UNK] br [UNK] [UNK] [UNK] as [UNK] [UNK] becomes [UNK] [UNK] after a young woman is shot and killed coming out of a [UNK] she wants the [UNK] [UNK] [UNK] and is [UNK] into a [UNK] run after [UNK] a powerful [UNK] at a [UNK] [UNK] [UNK] [UNK] is [UNK] by her [UNK] best friend [UNK] [UNK] as [UNK] [UNK] and her [UNK] husband [UNK] [UNK] as peter [UNK] [UNK] run for [UNK] of [UNK] city [UNK] [UNK] from men in town so [UNK] [UNK] the women to go on [UNK] [UNK] them everything in the [UNK] [UNK] and [UNK] br br the film sounds much better than it turned out the humor [UNK] isnt too good and it features some [UNK] and [UNK] [UNK] [UNK] you look like [UNK] [UNK] [UNK] to an [UNK] and [UNK] character and the [UNK] of [UNK] and [UNK] doesnt [UNK] well this time [UNK] might have [UNK] making the film more dramatic [UNK] [UNK] on [UNK] and the characters played by [UNK] [UNK] as [UNK] [UNK] and [UNK] [UNK] as [UNK] [UNK] br [UNK] [UNK] [UNK] [UNK] [UNK] [UNK] [UNK] [UNK] [UNK] [UNK]                                                                                                                                                                                                                                                                                                                                                                                                                                                                                                                                                                                                                                                                                                         \n",
            "\n",
            "Original:  b'I decided to watch this because of the recommendations from this site. I would have to say it was worth the effort. However, you should take heed that this film will go on for 210 minutes. If you don\\'t have the staying power, get it on tape and watch it over a couple of nights.<br /><br />Now to the film, what I say will contain \"spoilers\" and if you don\\'t mind, here goes: <br /><br />Alexandre is a promiscuous bum, a womanizer and a gigolo. He lives with an older woman called Marie. Marie owns a retail shop and she provides for Alex. Alex spends his days at caf\\xc3\\xa9s and restaurants. The story reveals that Alex had previously impregnated Gilberte whom he used to live with. Gilberte dumped him for a less attractive man that she did not love because Alex had abused and battered her. At this point, Alex was willing to get a job and and help raise their child before he found out Gilberte had aborted it and planned to marry someone else. <br /><br />By chance, Alexandre meets a nurse nymph called Veronika and they striked up a relationship. Veronika fell in love with Alex for the first time after all the sordid sex she had with men in the past. Marie and Veronika struggles for Alex\\'s affection and had a m\\xc3\\xa9nage \\xc3\\xa0 trois to boot. Finally at the end, it\\'s revealed Veronika is pregnant with Alex\\'s child and Alex asked her to marry him. We assume (as aforesaid with Gilberte\\'s situation) Alexandre will even get a job and be the provider for his new found love and family. There is hope! <br /><br />With the title of \"La Maman et la putain\", I deduce Jean Eustache was relating to Fran\\xc3\\xa7oise Lebrun\\'s character of Veronika. She was a whore and then she became the mother. Hence, the mother and whore is the same person? Anyway, what do I know! French films are mostly (not all) very chatty, aimlessly political, preaching, theatrical, insipid, lamenting and full of quotes. Lebrun and L\\xc3\\xa9aud played their obdurate characters well and held the film together as some part of the script became a little lost and disjointed. <br /><br />Not a bad effort. 7/10.'\n",
            "Round-trip:  i decided to watch this because of the [UNK] from this [UNK] i would have to say it was worth the effort however you should take [UNK] that this film will go on for [UNK] minutes if you dont have the [UNK] power get it on [UNK] and watch it over a couple of [UNK] br now to the film what i say will [UNK] [UNK] and if you dont mind here goes br br [UNK] is a [UNK] [UNK] a [UNK] and a [UNK] he lives with an older woman called [UNK] [UNK] [UNK] a [UNK] [UNK] and she [UNK] for [UNK] [UNK] [UNK] his days at [UNK] and [UNK] the story [UNK] that [UNK] had [UNK] [UNK] [UNK] whom he used to live with [UNK] [UNK] him for a less [UNK] man that she did not love because [UNK] had [UNK] and [UNK] her at this point [UNK] was [UNK] to get a job and and help [UNK] their child before he found out [UNK] had [UNK] it and [UNK] to [UNK] someone else br br by chance [UNK] meets a [UNK] [UNK] called [UNK] and they [UNK] up a relationship [UNK] [UNK] in love with [UNK] for the first time after all the [UNK] sex she had with men in the past [UNK] and [UNK] [UNK] for [UNK] [UNK] and had a [UNK] [UNK] [UNK] to [UNK] finally at the end its [UNK] [UNK] is [UNK] with [UNK] child and [UNK] [UNK] her to [UNK] him we [UNK] as [UNK] with [UNK] situation [UNK] will even get a job and be the [UNK] for his new found love and family there is hope br br with the title of la [UNK] [UNK] la [UNK] i [UNK] [UNK] [UNK] was [UNK] to [UNK] [UNK] character of [UNK] she was a [UNK] and then she became the mother [UNK] the mother and [UNK] is the same person anyway what do i know french films are mostly not all very [UNK] [UNK] political [UNK] [UNK] [UNK] [UNK] and full of [UNK] [UNK] and [UNK] played their [UNK] characters well and [UNK] the film together as some part of the script became a little lost and [UNK] br br not a bad effort [UNK]                                                                                                                                                                                                                                                                                                                                                                                                                                                                                                                                                                                            \n",
            "\n"
          ]
        }
      ],
      "source": [
        "for n in range(3):\n",
        "  print(\"Original: \", example[n].numpy())\n",
        "  print(\"Round-trip: \", \" \".join(vocab[encoded_example[n]]))\n",
        "  print()"
      ]
    },
    {
      "cell_type": "markdown",
      "metadata": {
        "id": "XkTmngr3Hjsv"
      },
      "source": [
        "### Buat Model\n",
        "\n",
        "![bidirectional.png](data:image/png;base64,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)\n",
        "\n",
        "diagram model dapat dilihat pada gambar diatas\n",
        "1. Model ini dapat dibuat sebagai tf.keras.Sequential.\n",
        "2. Lapisan pertama adalah encoder, yang mengubah teks menjadi urutan indeks token.\n",
        "3. Setelah encoder adalah lapisan penyematan (embedding layer). Lapisan penyematan menyimpan satu vektor per kata. Saat dipanggil, ini mengubah rangkaian indeks kata menjadi rangkaian vektor. Vektor-vektor ini dapat dilatih. Setelah pelatihan (dengan data yang cukup), kata-kata dengan arti yang mirip sering kali memiliki vektor yang serupa. Pencarian indeks ini jauh lebih efisien daripada operasi setara dengan meneruskan vektor yang disandikan one-hot melalui lapisan tf.keras.layers.Dense.\n",
        "4. Jaringan saraf berulang (RNN) memproses masukan urutan dengan melakukan iterasi melalui elemen. RNN meneruskan keluaran dari satu langkah waktu ke masukannya pada langkah waktu berikutnya.\n",
        "Pembungkus tf.keras.layers.Bidirection juga dapat digunakan dengan lapisan RNN. Ini menyebarkan masukan maju dan mundur melalui lapisan RNN dan kemudian menggabungkan keluaran akhir.\n",
        "  * Keuntungan utama RNN dua arah adalah sinyal dari awal masukan tidak perlu diproses sepanjang waktu untuk memengaruhi keluaran.\n",
        "  * Kerugian utama dari RNN dua arah adalah Anda tidak dapat melakukan streaming prediksi secara efisien saat kata-kata ditambahkan di akhir.\n",
        "5. Setelah RNN mengonversi urutan menjadi satu vektor, kedua lapisan tersebut.Dense melakukan beberapa pemrosesan akhir, dan mengonversi representasi vektor ini menjadi logit tunggal sebagai keluaran klasifikasi.\n",
        "\n",
        "Kode nya adalah sebagai berikut :\n",
        "\n"
      ]
    },
    {
      "cell_type": "code",
      "execution_count": 13,
      "metadata": {
        "id": "yIWfOQogIZzc"
      },
      "outputs": [],
      "source": [
        "model = tf.keras.Sequential([\n",
        "    encoder,\n",
        "    tf.keras.layers.Embedding(\n",
        "        input_dim=len(encoder.get_vocabulary()),\n",
        "        output_dim=64,\n",
        "        # Use masking to handle the variable sequence lengths\n",
        "        mask_zero=True),\n",
        "    tf.keras.layers.Bidirectional(tf.keras.layers.LSTM(64)),\n",
        "    tf.keras.layers.Dense(64, activation='relu'),\n",
        "    tf.keras.layers.Dense(1)\n",
        "])"
      ]
    },
    {
      "cell_type": "markdown",
      "metadata": {
        "id": "62mOGf1nIdCl"
      },
      "source": [
        "Harap dicatat bahwa model sekuensial Keras digunakan di sini karena semua lapisan dalam model hanya memiliki masukan tunggal dan menghasilkan keluaran tunggal. Jika Anda ingin menggunakan lapisan RNN stateful, Anda mungkin ingin membangun model Anda dengan API fungsional Keras atau subkelas model sehingga Anda dapat mengambil dan menggunakan kembali status lapisan RNN. Untuk detailnya bisa dilihat pada Keras RNN guide\n",
        "\n",
        "Lapisan penyematan menggunakan masking (uses masking ) untuk menangani panjang urutan yang bervariasi. Semua lapisan setelah penyematan dukungan penyematan"
      ]
    },
    {
      "cell_type": "code",
      "execution_count": 14,
      "metadata": {
        "colab": {
          "base_uri": "https://localhost:8080/"
        },
        "id": "IZXYQD8CIdaz",
        "outputId": "690c8040-af18-4538-a33f-03d35edd75c6"
      },
      "outputs": [
        {
          "output_type": "stream",
          "name": "stdout",
          "text": [
            "[False, True, True, True, True]\n"
          ]
        }
      ],
      "source": [
        "print([layer.supports_masking for layer in model.layers])"
      ]
    },
    {
      "cell_type": "markdown",
      "metadata": {
        "id": "dZV1bis5IlMt"
      },
      "source": [
        "Untuk memastikan bahwa ini berfungsi seperti yang diharapkan, evaluasi sebuah kalimat dua kali. Pertama, satu kalimat sehingga tidak ada bantalan (padding) untuk disamarkan:"
      ]
    },
    {
      "cell_type": "code",
      "execution_count": 15,
      "metadata": {
        "colab": {
          "base_uri": "https://localhost:8080/"
        },
        "id": "ul7HwHSxIg9-",
        "outputId": "72e40350-e7ee-4ed5-880e-6376008d3115"
      },
      "outputs": [
        {
          "output_type": "stream",
          "name": "stdout",
          "text": [
            "1/1 [==============================] - 7s 7s/step\n",
            "[0.00128857]\n"
          ]
        }
      ],
      "source": [
        "# predict on a sample text without padding.\n",
        "\n",
        "sample_text = ('The movie was cool. The animation and the graphics '\n",
        "               'were out of this world. I would recommend this movie.')\n",
        "predictions = model.predict(np.array([sample_text]))\n",
        "print(predictions[0])"
      ]
    },
    {
      "cell_type": "markdown",
      "metadata": {
        "id": "Jrae94f-IoDk"
      },
      "source": [
        "Sekarang, evaluasi lagi dalam batch dengan kalimat yang lebih panjang. Hasilnya harus sama:"
      ]
    },
    {
      "cell_type": "code",
      "execution_count": 16,
      "metadata": {
        "colab": {
          "base_uri": "https://localhost:8080/"
        },
        "id": "uBSlWE8_InZT",
        "outputId": "82dfabb0-d9a7-41fc-fd72-20b74c0b3d9a"
      },
      "outputs": [
        {
          "output_type": "stream",
          "name": "stdout",
          "text": [
            "1/1 [==============================] - 0s 61ms/step\n",
            "[0.00128858]\n"
          ]
        }
      ],
      "source": [
        "# predict on a sample text with padding\n",
        "\n",
        "padding = \"the \" * 2000\n",
        "predictions = model.predict(np.array([sample_text, padding]))\n",
        "print(predictions[0])"
      ]
    },
    {
      "cell_type": "markdown",
      "metadata": {
        "id": "rUZGP41yIr-9"
      },
      "source": [
        "compile model Keras untuk mengonfigurasi proses pelatihan:"
      ]
    },
    {
      "cell_type": "code",
      "execution_count": 17,
      "metadata": {
        "id": "t7JGoTqrIuG-"
      },
      "outputs": [],
      "source": [
        "model.compile(loss=tf.keras.losses.BinaryCrossentropy(from_logits=True),\n",
        "              optimizer=tf.keras.optimizers.Adam(1e-4),\n",
        "              metrics=['accuracy'])"
      ]
    },
    {
      "cell_type": "markdown",
      "metadata": {
        "id": "9w4kQfu3Iw4t"
      },
      "source": [
        "### Train Model"
      ]
    },
    {
      "cell_type": "code",
      "execution_count": 18,
      "metadata": {
        "colab": {
          "base_uri": "https://localhost:8080/"
        },
        "id": "Hi5mwkO-IvOI",
        "outputId": "7663e27f-ba2a-49ac-e150-764341d17444"
      },
      "outputs": [
        {
          "output_type": "stream",
          "name": "stdout",
          "text": [
            "Epoch 1/10\n",
            "391/391 [==============================] - 50s 102ms/step - loss: 0.6401 - accuracy: 0.5752 - val_loss: 0.5632 - val_accuracy: 0.7391\n",
            "Epoch 2/10\n",
            "391/391 [==============================] - 29s 75ms/step - loss: 0.5123 - accuracy: 0.7341 - val_loss: 0.4760 - val_accuracy: 0.7552\n",
            "Epoch 3/10\n",
            "391/391 [==============================] - 27s 69ms/step - loss: 0.4185 - accuracy: 0.8005 - val_loss: 0.4120 - val_accuracy: 0.8120\n",
            "Epoch 4/10\n",
            "391/391 [==============================] - 26s 67ms/step - loss: 0.3681 - accuracy: 0.8377 - val_loss: 0.3812 - val_accuracy: 0.8135\n",
            "Epoch 5/10\n",
            "391/391 [==============================] - 26s 65ms/step - loss: 0.3421 - accuracy: 0.8489 - val_loss: 0.3529 - val_accuracy: 0.8370\n",
            "Epoch 6/10\n",
            "391/391 [==============================] - 26s 67ms/step - loss: 0.3256 - accuracy: 0.8565 - val_loss: 0.3522 - val_accuracy: 0.8568\n",
            "Epoch 7/10\n",
            "391/391 [==============================] - 26s 66ms/step - loss: 0.3140 - accuracy: 0.8635 - val_loss: 0.3381 - val_accuracy: 0.8375\n",
            "Epoch 8/10\n",
            "391/391 [==============================] - 26s 66ms/step - loss: 0.3089 - accuracy: 0.8658 - val_loss: 0.3297 - val_accuracy: 0.8526\n",
            "Epoch 9/10\n",
            "391/391 [==============================] - 27s 69ms/step - loss: 0.3059 - accuracy: 0.8694 - val_loss: 0.3272 - val_accuracy: 0.8615\n",
            "Epoch 10/10\n",
            "391/391 [==============================] - 26s 67ms/step - loss: 0.3040 - accuracy: 0.8689 - val_loss: 0.3339 - val_accuracy: 0.8417\n"
          ]
        }
      ],
      "source": [
        "history = model.fit(train_dataset, epochs=10,\n",
        "                    validation_data=test_dataset,\n",
        "                    validation_steps=30)"
      ]
    },
    {
      "cell_type": "code",
      "execution_count": 19,
      "metadata": {
        "colab": {
          "base_uri": "https://localhost:8080/"
        },
        "id": "vjP5yt6tJFf5",
        "outputId": "25a003c4-fd98-4cde-a797-9528f975e0b0"
      },
      "outputs": [
        {
          "output_type": "stream",
          "name": "stdout",
          "text": [
            "391/391 [==============================] - 12s 31ms/step - loss: 0.3248 - accuracy: 0.8462\n",
            "Test Loss: 0.3248174488544464\n",
            "Test Accuracy: 0.8462399840354919\n"
          ]
        }
      ],
      "source": [
        "test_loss, test_acc = model.evaluate(test_dataset)\n",
        "\n",
        "print('Test Loss:', test_loss)\n",
        "print('Test Accuracy:', test_acc)"
      ]
    },
    {
      "cell_type": "code",
      "execution_count": 20,
      "metadata": {
        "colab": {
          "base_uri": "https://localhost:8080/",
          "height": 503
        },
        "id": "WB3BurI8JGF8",
        "outputId": "746f3b5c-6ba4-408f-cd34-94b872aaa1d6"
      },
      "outputs": [
        {
          "output_type": "execute_result",
          "data": {
            "text/plain": [
              "(0.0, 0.6568783357739448)"
            ]
          },
          "metadata": {},
          "execution_count": 20
        },
        {
          "output_type": "display_data",
          "data": {
            "text/plain": [
              "<Figure size 1600x800 with 2 Axes>"
            ],
            "image/png": "[encoded data removed]"
          },
          "metadata": {}
        }
      ],
      "source": [
        "plt.figure(figsize=(16, 8))\n",
        "plt.subplot(1, 2, 1)\n",
        "plot_graphs(history, 'accuracy')\n",
        "plt.ylim(None, 1)\n",
        "plt.subplot(1, 2, 2)\n",
        "plot_graphs(history, 'loss')\n",
        "plt.ylim(0, None)"
      ]
    },
    {
      "cell_type": "markdown",
      "metadata": {
        "id": "n4AUbAb5JH4B"
      },
      "source": [
        "Jalankan prediksi pada kalimat baru:\n",
        "Jika prediksi >= 0,0 berarti positif, jika tidak maka negatif."
      ]
    },
    {
      "cell_type": "code",
      "execution_count": 21,
      "metadata": {
        "colab": {
          "base_uri": "https://localhost:8080/"
        },
        "id": "pLXQgrpWJIVF",
        "outputId": "d936fae0-1ea6-4da5-9458-8a0beaaed447"
      },
      "outputs": [
        {
          "output_type": "stream",
          "name": "stdout",
          "text": [
            "1/1 [==============================] - 3s 3s/step\n"
          ]
        }
      ],
      "source": [
        "sample_text = ('The movie was cool. The animation and the graphics '\n",
        "              'were out of this world. I would recommend this movie.')\n",
        "predictions = model.predict(np.array([sample_text]))"
      ]
    },
    {
      "cell_type": "markdown",
      "metadata": {
        "id": "0r-iSWR_JLgp"
      },
      "source": [
        "### Stack two or more LSTM layers\n",
        "Lapisan berulang Keras memiliki dua mode yang tersedia yang dikontrol oleh argumen konstruktor return_sequences :\n",
        "* Jika False, ia hanya mengembalikan keluaran terakhir untuk setiap urutan masukan (bentuk tensor 2D (batch_size, output_features)). Ini adalah default yang digunakan pada model sebelumnya.\n",
        "* Jika True, Sequence lengkap output berturut-turut untuk setiap langkah waktu dikembalikan (bentuk tensor 3D (ukuran_batch, langkah waktu, fitur_output)).\n",
        "\n",
        "Berikut adalah alur informasi dengan return_sequences=True:\n",
        "\n",
        "![image.png](data:image/png;base64,iVBORw0KGgoAAAANSUhEUgAAAVkAAADkCAYAAAAy0VfEAAAAAXNSR0IArs4c6QAAAARnQU1BAACxjwv8YQUAAAAJcEhZcwAADsMAAA7DAcdvqGQAADjJSURBVHhe7Z0JvFVj98eXoVCSSlFpUKIRJWmUJCRTiDK/XskYL38kw2uqF6+hzCWFCCkpRfSiQfOoeZ5L85zmzn9/V3vfTqc7nHvv2Xvf21nf2p+7n+ecs6dz9m+vZz3Ps9ZREQcxDMMwfOFo969hGIbhAyayhmEYPmIiaxiG4SMmsoZhGD5iImsYhuEjJrKGYRg+YiJrGIbhIyayhmEYPmIiaxiG4SMmsi4vvPCCuxYOw4YNc9eC58svv3TXwuGTTz5x14KnW7du7pph+IOJrMvo0aPdtXBYvny5uxY8s2bNctfCYdq0ae5a8IS5byM5MJE1DMPwERNZwzAMHzGRNQzD8BETWcMwDB8xkTUMw/ARE1nDMAwfMZE1DMPwERNZh71798qGDRvk+++/l/3797u1wbBt2zbp27evTJw4UZegGTJkiMybN08mTZrk1gTHrl279NyXLFni1gTLlClTZPHixXoNDMMvTGQdduzYoQL3wQcfyNFHB3tJjj32WGnTpo106dJFFixY4NYGBw+W3r17y2effebWBMdxxx0nDz/8sPz2229uTbB8/fXXMmDAAPnhhx/cGsNIPCayDnny5JFChQrJnXfe6dYEx/HHHy9nnXWWFCxYUG644Qa3NjjefPNNyZs3r1x33XVuTbA0b95cqlev7paC5aKLLpJ8+fLJW2+95dYYRuIxkXVAZEqUKCHNmjVza4Klc+fO8sADD8gxxxzj1gQHIs9516lTx60JFqz4008/3S0FywUXXCCNGzfW1oRh+MURkxK8Z8+eMnPRdLeUeXb8/bec4Fg1WeW7r/vJ9S2bu6XMgy84q66KtavWSJGiReToLIo0vlGa7lnlo7e7yn3/utctZZ5dO3fKcY7YZ5XlS5bL6WWyJtTZ3fcNV7aQmjVruiXDOJwjRmS7fdJNLrqmtlsKnn+0uFd6fNvVLQXLzGmzpELFM9XtEQbnl68jExeEF2BnzB/jpHb9Wm4pWNbM2Sj16zdwS4ZxOOYuMAzD8BETWcMwDB8xkTUMw/ARE1nDMAwfMZE1DMPwERNZwzAMHzGRNQzD8BETWcMwDB8xkTUMw/ARE1nDMAwfMZE1jJD48ssvpVu3bocsI0eOdF9Nn1WrVsnYsWPdUuZYu3atDBo0yC0dhPphw4bp+jfffKN/jeyTlCK7edMWZ9msy/Zt22XPnr26HgvvI6B3ImF73r7ZPmzZvFX27N6jQWK2btmqddu3/y1/O0uiYfvR575z586Uff79999CKIt9+/bp65H92QtrwfkcPNfNeu7s0zsv9rNv7z5d571cB489e/bI7t27dX2rU08Qm6yyZfOh37f3HcCOv3ekep7R7/GLJ598UpYuXXrIsnHjRvfV9CHQep8+fdxS5iBQ+RtvvOGWDkJ99+7ddX306PBiURxpHPOCg7ueq5k0eZKUOTu+SEy1KzbQG3fsyPGyYtlfzo23Tfr0+l5OyHeCPH7fUzJy6Chp0KiePPlgeyla7BQpFUeEp/7f/iDX3XS1W0qbyeOmyJsdOsuMP2fKxLGTpHaDWnJvqwekWvUq8s7rH2iwl3lzFsjaVWulz5ffScMmF7mfTJu1a9ZJkVMKxxUqsbWzr/mz5+u5r1m9Vkb8NlKmTp4mG9dvku97/yBff9Zbqp1XRZ5+5Hmpd3EdyZ8/48hkXd/5RNo8co9bOsjiBYvlgTvaytJFy3R/Z5xZVl779xsa8av46cXl+cdflOIlT5M8eY6VJx5oJwvnLZKli5dJ/hPzy4vtOshvPw+TKudUko86fSwrl/8l59So5m75UJYvXSGnly7plg6n/jmXyKYNm/QYVq5YpcL6Tc8+Krj87e+cd8NLG8g7r30gvXp8LaOHj5GKVc6Wm664Ve6673Z3K6mzff1OKV26jFvKHO+99570799fGjVqlLIQWxj+/PNPtVZHjBih3ysZNH799VfZsmWLhoZEkGfOnKmR26ZOnSrFihXT2Lgwd+5cDYS+YsUKDeFJ4CAeGsOHD5cJEyboNsaNGyd33XWX1v/vf/+T6dOn64OObRHjl/jGpUqVklmzZukDj30vXLjQOdfSGhqShx51vL9o0aKyfPlyKVKkiO7fOJSkdRf8q31bXVredZMcddTRckfrW2XG1Jly2z2t5O4H7pJ8jrjUaXCh++7EctNtN+q+2z71oJbLOeJzRvmyakm2vPMmGTlstFx53RVy0skn6euJpMwZpVLOneOAZtc1lVr1LpDHnLpipxUT54JIvYaJiS97QZ2aKfsrXbaUnFK0iDRp1lg+7/KFlC1XWt8Tcf499+oz8vizj8qs6bPl18G/y6vvdpC3urwmw3/9Qy65vJG+Lzt4x3DzHTc6p3eU3HZ3K7nQOef2rzwpNeucL7t27pJljsD/0/nu73/sXhVtHgB+Qqvhr7/+OmRB0OCWW26Rl19+WVPznHPOOdKyZUtZv369BnZH0KBr166aOmfGjBlSrlw5FWJcCJdeeqluh4wXDz74oO7n008/lUcffVRbB88995x+nnq2x2sIcqtWrbQe2D+88sorUqtWLVm9erXGPUaY4dZbb5UePXrIunXrpHLlytKpUyetNw4naUX204966jJhzMG8WtxY1c6tIhvWbZBxoye4tYln8ICfdd+9e/Z1aw6wbcs2Ge8cT7FiRd2axLNy+aqUc18wb6FbK1Ko8MmycP4imTtrropQopg2ZXrK/jauP9gUvu9fraVwkcK6XuSUIlLs1GKO9fycxuRFCPI5rQrYt/+AOyG7eMcwftTB77WwY/0Ti5bfAFZc46aNpPQZpeWrHr1VgPwGa/Dmm28+ZFm0aJG+hqASI/nxxx/XY8FHeu+990qLFi1k8uTJ+h6yWbz22mvyzDPPSN26dWX27Nma5QHBQyTx8WJpzpkzRzp06CDjx4/X+vfff18/v3nzZvn9999VrAka/8knn2h9NOz722+/1eDqCC775loh7F988YUek/lv0ydpRfahJ+7XJdpi27Jpi5QqU0pjs65fu8GtTTzNW16n+/7H/Xe4NaJWNFbfNTc0kzEjx8rOHTvdVxJL6TKnp5z72ZUPNE3hJ0f4K1WtKM90fFqb7YmiRq3qKfsjsHhq7N61W55u+6xal+eeX00KFDhRVv+1Rvbv2y8FTkqMNe8dQ/1G9dyaAy6echXKyZPPPy5TnYcBGTJwu5x5dvlARJasFDThoxfPXQA0/3ngsXjZG3APeMdWoUKFlNdr1KihwrxmzRrN2/bUU0/pgviSw47FizeMGwB4mPHZE088Uctly5bVciyeGyB63xy7d0znn3++/jVSJylF9pzq1aTDM6/q0v2DgwkET3Oahx+89ZFjYX4rjeLwhWaF/AXyS7+vv0/Zv9f5Vc05pm1bt8pnXXpK64f+KcefkPVo/emxe/eelH136fSxWyvqg/vk/U+lz5d95bya57q12YOMA4sXLknZ35+TprqvHADRxS0zZ+Zc7ZxC9PDvXn51E/m0y+fy5iudpP7F2XdbVDuvasoxdHuvh1srckqxU+Td1z+Qrz//VmrVvUB92z0++lyWLVkWeELNrIBfFdHDrzp48GAVT/y1tWvXVguXpWTJklKmTBn1zTJ6APCzwgknnKDniZsCsHrjfbhsdX6rCDpgMRtpY5kRHEYOHe38UPdIw0sPFda3O3aWOhfViSvqflYzI+A7a9/2OXn2P+2lYJQPdpnTjO3ds4/6KTMiO5kR3n/zI+ehU1UaXFLfrSElyy7p9Oq76p9EiDIiM5kRXm7XUe5+8C4pWaqEW5MxfXv1U2u31T9udmsOJbOZEcaMGKujNxpfkbavlxEQdzT/p/T55Su3JnWykxkB8UMEo8E6JXMwHUx0bkGBAgW0yY9QMiKBBJAk/mzdurVcfPHFKrKMNvjll1/0Ly4FFj6DZdqrVy+1kv/5z3/KPffco9l5sZJ5f8eOHbUDi22SvbdevXoqmmeffbZ+/o477lAfLseFq4AynXL4Z7/66iupVKmSdohVq1ZNsz0bh2Mi68JliG0qpVaXFtlJP5Pmvp1//M+I7Kafye65Z0ZkM3NeHhkdS1bSz8RzfvG8Jzsiy/ZTg31G7zu94/C2Eft6avXRdbHbh+j62L8eXhnBPe+887QOkWZ8LR11xuEkrU82lugfkkdqdX6Q5r6D2X2g556V8/LjWOLZpl/XwIPtp7Z4r3lEr8cS/ZloUquProt+LbX61N4HXpmRCli1dLrdfvvtoaTTzy2YyBqGkWl+/vlnue222zRTL6MWzjzzTPcVIxYTWcMwMg2jCy6//HK5/vrrtbPNSBsTWcMwDB8xkTUMw/ARE1nDMAwfMZE1DMPwERNZwzAMHzGRNQzD8BETWcMwDB85cqbVdusmc5bOdEuZh8wEefJmbVoqDOr3kzRr3tQtZR7Cx2U1KMm6tes0bGBWP0+GgngCfqfFR293lfv+da9byjx79+yVY/MciOiUFYjzEE9g9dTI7r6vv7KF1KmdmNi7xhEKIpvs7NmzJ1K9evXIkiVL3JpgGT58eKR9+/ZuKXhatGgRmT17tlsKlunTp0euu+46txQss2bNilx11VVuyTD8wdwFDkQxIgrRlClT3JpgIVWIF3EpDIgnSvDmMCCiE1GmwoCUKyeffLIGPTEMvzCRdUBkiUpPaLcwYB44QkOMzjAgvQmxScNg0qRJ0rBhQ9mwwb8g6WmBwDdt2jS0czeSAxNZB8K0FS9eXFauXOnWBAf+UOKKXnLJJSnpmINkzJgxUr58eT3/MMCPXL16dc1HFTTbt2/XFozFQTX8xETWYeDAgXLSSSdp05G0yEGCFX3BBRdI/fr1ZejQoW5tcJCplCR8BI9G8IMGCx6RDyNPFN+5l/nVS2BoGIkm6UUWfxxCww1H0xHBDRKS6ZEj6bTTTtP1oMF6JrcTuaVIPx0kjKjgupP6hkj/QZ8/kaSAzKthuWqMI5+kF9lNmzapyJAUDouSPEdBgj/QCxWH2yBIEDms9/z586vIkk4kSOho9JL6kXmVlOhBgQ/YSxBIyL6w/PHGkU/Siyz55K+55hpdJ+q7d9MHxY8//qjWHJDXycupHwS4KrxMowj9tGnTAnUZMKoCVwXgLiFXVFBgwXuBpnnQfPzxwaSShpFIkl5kydR57bXXuqUDieyCGk6FqwL3BDc5YE2S4z4o8ENivQMdUI0bN9bU0UFBbij8sYC7oF+/froeBPi/vZYDQ9jI4EpHWE5hxowZmlBxyZIlbo2RW0l6keVHjAXpwXCm7t27uyV/2bJli1qQXgJEBB6hCWrc5sSJEw85d3zSmzdvdkv+gquClNTeGFn+YtVTHwQM3/JaLbRgyOQ6d+5cLecEsPCrVKkib7zxhnTp0kVbHUbuJOlFNtYXRyrkQYMGBXKzr1q16hArGt8o/uHdu3e7Nf7Sv39/7XTy4MYOaoQDbgnPigZ84mQ/pWXhN3y3WNDR2X1JBjhzZtanZScaHkDkz3r33XfVpRPG6AsjMSS9yM6fP99dOwBz+PHRBtFsXrNmjVx99dVu6QBYk0E12bEco0UW3zC594MAka1Ro4ZbOgCJ+YLwyyKyVatWdUsHOO6447SJnhNBZAcMGCArVqxwa4zcRFKLLFbTKaec4pYOgvAFYVExJtfr+PGoXbu2+gf9hiFLiCri4pEvXz5Zv359IMOZaK7HjqZg5lcQTXZE9txzz3VLB6FlkZP8sh64M/71r3/pNGAj95HUIouY0asdC37Snj17uiX/SG3YEJ1gffr08d0vy6gKhk3FwphRxN9vdwkuGa/Dz4NWBC0Lzt3P8x87dqyUKFHCLR3k0ksvlT/++CMQV1FmwZWSEx8ARsYktcjig6tXr55bOgA3GNZU3759dZKCnyxYsMBdOwi+STrjqlWr5tb4w9q1a6V58+Zu6SB0/D366KPSoUMHt8YfaP5GuyqAa4+QcAxYb37x008/HbZvRlrkzZtXnnnmGU1zndPwJk4YuY+kFll8onQ0RcPNjSWJAPs51RJLkqFDsTDriYhYfo+XXbRokVSsWNEtHYSRFXR+MdLBL7Zt26ZDxujciYZrj0842oXhB7/88kuqVvSHH36oD1jiGRhGokhqkU0tyDU3+iuvvKLDe7IaBDseZs+eLQ0aNHBLB8FHjBXtt9DMmzfPXTsUgqUULVpUfcN+kZYVzbW/7777UhX/REGnItZyrMDzXXfu3FktxiZNmri1hpF9jpjMCPGAD5awgh6sM6UyNejJ3blzZ8pg+Yygec9g/vRgVpHnV5swYYLGK/Cm1MbCFNdWrVq5pfShmYs4pfdQ2Lhxo/qZPX8jFmPLli11PZYvvvhCe/rjheAyLVq0cEupw77pVAOuLVNoU7OWsXKJDIZ/NF5uueUWKVasmFs6HM5n3bp1us72cVXwmdQYPHiwXHHFFW4pY/iOTj31VLfkL999912OdGUY6ZNUIvvll19Ks2bNdJ3m+vfffy9t2rTRcna58847ddxpeiAcuCLg1VdflXbt2ul6dsG1wZhKxDYtaAYzegAXBfEannrqKR3knghq1aqV4agAHkJeABpEzpvKnAg4/7p167qlw6HTyBv/Sw89cQsS5RJge6l1nvqBiWzuJGndBaNGjdJprGER5rMNQfTTHZARGQmyn+CqMJ+rESRJLbLM7kpG8AfHjqoIktgJIEESpsAbyUnSiiwjC8LKBsC+Y3u3g4RB936OHkgP4jWEGSCbURWGESRJK7JnnHGG9maHAYPhwxI5YEprWOfOqIY6dcJJoc15h5mw0khOklZk4x014AcE6k5WfzAiG5Y/mKnSQccLNoykFFmG82DJhgUzvcK62RnKxSiDsFi2bJmG8AsDrntYVrSRvCRUZEnv3KlTp5SFge3RnRxdu3bV3t1oGFYF+Mpi4wUwlnT8+PFuKXEwbz69cZV+Q0T+MF0Vfg72zwjG6YZ17vwWGW5mGEGSUJFlOihpPQjAzMJYVGbPeKm2n3/+eWnbtq2uexCUGBjreMcdd2i0fA/Sk/gRP4BsBMxqCgsv7UkYMNA/TJENM/g0LZjUAsMYhp8k3F1A7EuizLO8+OKLOhMoOkYpzcW0Bu1feeWVGtLNz1B7dH4g6GH17tNcj85GEDT4RMPaP99rehMmDONIJOEii4gR2Z8FC5bpodHTFHEhMMsqtfTPjN3EZ4bQ+gVDiJh5legmK51JnFP0wvkjaG+++aY+XIAIUH5Mw+R6x+6fWVa0Dmgme9NpCYjjR0yG2H2z4Pf+9NNPUzI90OFXqVIlXU8kqZ07MSBoNfFQ8Tr6whw6ZiQvCb/bSP5GPABu5htuuEF69+4tlStXdl89EErvhRdeUDcCghzLW2+9pX7D0aNHuzWJBZG97LLL3FLiYC4+Yha94GdmTGrHjh01QSJChz840a4KRIROndj9IzbsF1+4l23Bjw4/zit23yycOyET8dVzjIisHxNAiIUQu2/Ol4hiPNQRYaxoCxdohEHCRfbuu+9W3yzBWLCYyK0fC/P86QAjdkAs5LkiGhLBSwjQkmiYCJDePPeswnHTax69VK9eXUWOsZmPPfaYCg2uisKFC7ufSgxY5ViIsfsnPgEznF5//XU9PmIW+CGyfM+x+2bp1auXpnRhyBbHyEwzP/bPNmP3/dFHH+l1f/vttzWiGUIf5rA5I3lJfLvRhaDIjDDAkkHYoiHMHJ1aCE9qQnrJJZdoKLxu3bq5NYkD0Q9qCBP7IVEiAgdEgMId4kdzPTXwi0cPFaMTkchfQcF3GO2DJVoXQcmDgMSI0Q8zMvOG2eFoJC8Jvdu5oaLjoJKN9KGHHtLIQTQpo4NUM6WVG8G76fgbfUO+/PLLavklOq4qIhvUjR4LrorMhNFLNPiDwxy6FhsgPUjIKRbmBBQjeUmoyNKhFTtE64knntCbm+ZirOuA0Qee75VYrA8//LCuA0PAyIGFSCcKRJttEgU/DPALkiwwLMhflVriyCDg2scmTgwSztvvQOiGkRq+WrKAoCGYiGxsuhVe8+qwLmM/S3M7kUN+GKPphz82XlK7PkFBSwI3TKJHVcQLHVFhBeSBtIKjG4bfBOMczCEgsmHGEs2TJ09orgpEtmnTpm4peBDZMF0VFrPACIukEllu9LDiqCLwWLJhuSo4dyzZMMBVQAdnWLPsGMJllqwRFkklsvhjYxPoBQXZZxmnGVZzHd+3N8ohaBhVwcMlzAdMkSJF3JJhBEtSiezUqVPdteBZuHBhaAIPpMEOS+Dp8AtLYAErOkxXhZHcJI3I0lxnJlBYLF68OLROL2bW+RHNLF5IXBiWL5rvnem0J510kltjGMGSNNlqGSfJxIjMWDRMC4138H7VqlU1LXdakJ2WGUjxTkRgCmq8YfkQMOIjpGUtst8HH3wwU0OomKnFzKl4KFSokI5rTgtScjN8LF6h5WGYmYkDTGopV66cWzoUZrkReKhGjRpuTfowPTkz42mJsxHU+FvLVptLQWSTge7du0dGjBjhluJjyJAh7lr2adeunbsWH61bt3bXss+wYcMiffr0cUvx0bFjR3ct+7Rt2zaya9cut5QxXbt2ddeyz7JlyyK9e/d2SxnTrVs3dy3n0bdvX3fNyE0kjbsAy5D8+2HBbK+wwFVBQJ6wIDMww9fCAEu2UaNGbskwgidpRJabPHYyRFDQ9A5z3jyxI8LySZJXC1dKWJ1uxCyw6FtGmCSNyAYZGCUW0ujE6xP0AwKFhwXhHonfGxZ0+IVlRRsGJIXITp48WceIRgLu42N/dLjR6eNHHNWMYHwo506TOQwYl4wlefHFF7s1wUEsXfZN0G4TWSNMkkJkb7vtNu0FJr5qkNBEJugN2QGIZUpg7yBhXC4z3Lp06aKzvYJ+yBAwm4BBBG8PGobLNWjQQENqhmnJG0ZSiCxic+GFF8q///1vtyY4iCdL8j6yI4SRirtmzZoacpLhP0H7RRE5/KFeRuKgYQjcueeeG1o+N8OApBBZZvxgzYUxrfTqq6/WoDQPPPCAWxMsCDzpfsIQGjIikIoorDiupBl67733Qp1tZhi5djIC8WfjTWXCrJ94B8Izz97LrksmgdQ6bX7++WdNKxMvXOJ4rUh8iT179pR7771Xc3OlBhYaudLigehb8U6A4DqRroXJBf/5z3/k6aefdl85CGmDHn/88bhDUDLbLF6RI9kk1/bjjz+W1q1bu7WHwsSCeNN6Z+bclyxZIkOGDJFPPvlEM0rkRGwyQu4k14rs/fffr0KQaAYMGKAZXiEtkR04cKDUr1/fLSUW3AvDhg1LV2RxfSBGiQaRI+YrAa7TElmGg61bty5uocsMjOVlNEB6Ist15/onGm/fJrJGokkKd4FhGEZYmMgahmH4iImsYRiGj5jIGoZh+IiJrGEYho+YyBqGYfiIiaxhGIaPmMhmQJjDiMMewsxg/rDIpcO3DeMwEiqyDCInDQgRp1gISkJwFI/zzz9fxo4d65YO0LRpU/3766+/6iwuZh15fPTRR/L++++7pWAhmMtnn30m77zzjlsTHEwDZuYZs5uCBnHbvHmz/PDDDymTMoKE9N0EOL/55pvdGiOz9OnTR8qWLasxjAmxSXoeIrLBM888I71799b1aPiumWjChIfu3bu7tVmDe5job8CElqFDh+p6diFXW+XKlTUIfW4ioSLr3RwjRozQhS/rjTfekOHDh+vrK1asOGwmD3m0AGEhYhJC7cH2wsgoQGZXpuwyvfbdd9+Vhg0bHrI899xz7jsTz9y5c3WuP9N2mfkVu28Wv6J5IbDEWShVqpQ+DH///ffD9t28eXPfLFx+AwhDu3btdOZd7L5ZyMFlpM/27dvVoOG+42FZsGBBue666/S1u+66S7/jWJjFxxRoorYRbyI7kH7+q6++0vW777477ing8UBq/WhDLDeQcHcBQVhIVsjC0xTrdMqUKe6rB6ZFktQvNQiL16lTJ80kECZMpe3Xr59Ur15dp1gidtFLekkDswsiM3jwYKlbt66ULl36sH2z+BXNi/gKTNft1auXlCxZUmMkxO6b6xJvPIDMQsQupjJjVfGQi903S1jBZnIb/EaY+sz3yO8ZKxUwZLi/eKASPAfBRXhpvcCsWbPUCl29erXej0zz/sc//qFWJFYp77/xxhvVYAJiWRBKlPv6oYceUqOpffv28v3336uhQAvVszyZsoweIOJYzMB7MMSuuuoqjTvMbx84Xm+7tOg8Qy03kvC7hSDVZCf9/PPP5cUXX9SLduutt7qvioYb5Ebmy4zl1FNP1aYNX1aYICKIHOEJOZ4gYd/VqlVTdwvXMmi4OfnBExuC7zFoiLtL9K7p06e7NYZHZloQZOMghjILMY0RPsDgIRjOmDFjtJVGiwFr0/utEb+C1gLWMC1RBBajiM9v3bpVRZPWKPVYvryGONLq4bdLcKMnn3xShZTfEftDsGfOnKnb4zeFuHNcWKWzZ8/WhzpuQQyse+65RwW9W7duul3E9ZZbbtFM07mVhIvs+vXrNRo9F44LT7OzSJEi7qsHhBQBplnClxZLmzZttHlDNKic0PlB8OewCHPfEEZoSA8LT3g4nrUZD6Rbok+EhYBCscGUyNbBvUYITKxTYv/GQksUNwMxifGrcu/Sx0KK+WnTpqmhhGsAYST7BP0XTzzxhOaTI4YziwfC+uyzz2oAogoVKmj6fKKeAcF5SFdPolO2gzvs//7v/1QjMNLQEKLT5VYSLrJ8qViwP/30k144vshY6tSpo08pnlyp0blzZ/V70vljGMYBSOcTL6effrrGMmYhQ4XX9+FBB2O0CKaWZDQ6nCV+UHziCDILolu0aNG4H4YIZ/T+2LbnW42u90CECamJ6GI152b8ca454N976623NB00nWDR8BqOcSza1KxZxJlmx5tvvunWGIaBG6lHjx5uKX0YTYCwsjDaINaPjq8T8UVsySiMrzY92DeuAtxYtEzxmxN3GGt30qRJ+p5XXnlFLdDChQsfJuqPPPKIut9wBWCR4x7AIEsLfPN9+/ZVKxeDzRsdkRtJqMjSURMdSJsvg5ioH374oV7c6CYJTWEsVvxvwHv5wjyaNWumsTOj6wwjmbn99tt1BAYdr2QBTsudRpOc5Jl0HLHgd/VSAFWsWFE7xBBZtkf+NXLftWrVSq1L3AyMLsG6JG2RBwbTypUrdXQJ2/zvf/+r78fP+tJLL6lbATcCLgE62/D74ldlf9zbdCI3atRI72kEmn2iFd7iQV8IAfZff/119eniL8al4aWVx5pOzfLNyVjQ7hgsaLcF7c6pQbuBZjfXhzHcpNd59dVX3VeMnIpv7gLDMBILPkxG3tBzTxPdBDZ3YCJrGLkEZmvRGUQT3Mg9mMgaRi6BEQBVqlRxS0ZabNiwQV1a3uLXDMl4ybU+WWaB4LSPB5pZ8WarZTYMTn5IyyfLVEVvBk08ZCZrKjNgGBuYnk+WTgAGc8dDZrLF0ut75513akdFWj5ZBpYzoDzeFOOZufakbR83bly6PlnGTtIZEg+Z2TdxMnK6T5YRN3RWZRVudTrNnn/+ebfmyISxukzHZ8QEIxgYxkYnWmggskc6jnBFvvzyS7cUP0OGDHHXsocjCpFNmza5pfhwRMZdyx7ODy3yyiuvuKX46dixo7uWPZ588smI80ByS/HhPFzctezRrl27yMqVK91SfHTr1s1dy3n07dvXXUufHj16RNq0aRNxHoiRDz/8MHLfffdFhg8fHpk8eXKkVq1akYkTJ0bef/99fW+fPn0iK1as0Pfdf//9kVmzZunn77nnnojzsNf3RLN79279PfHeP/74I7Jr167I22+/rfsbNWpUZM+ePfr9PfTQQxHnQR1xLMnIq6++qp/98ccfIwsXLozMnDkz8sADD0ReeOGFyLZt27Sez9x1112RpUuXRjZu3Bj597//HXnwwQf12ObPnx955JFHtM6xSvX4OacOHTpEHCNCvzOOgaV79+66L7jlllv0r2PkRJyHqP4eBg0apHXAveEYFpHnnnsu8vDDD0cWLVrkvpJYkkJkgS9pwoQJbik+EiWya9eujTjWkVuKj0SJLLz33nuRKVOmuKX4SJTIOhZFpH79+nrzxUuiRHbHjh26b4QgXo4EkXVaeHruiFf//v1VGJ2WkX4H/K74PTZr1kzf+9hjj0WmT58eufzyyyM7d+6MDB06VI0Srtlll12m74lm8eLFKnC8PnbsWN3HL7/8ottu2bKlijliSLlhw4YqXDVr1tTPvvTSS5HRo0dHrr32Wj0mBJXf5qOPPqoPYvb/2muvRZ566qnInDlzIlu3btVzbtGihe4PsX3mmWcijRs31u2ycJ4I7/bt23Wh7BEtsog623jxxRe1Djp37hx59tlndd8cz4033ui+kliSxidLTyzDXpwL7dYEB0OiGEfouSGChuYv89QZYxk0BQoU0KY4kbWChoAzjA9lSB5uk2SBa865E/+BGAVM+iHkIS4rb/HwfhPM3vKmcTNOljGwTKONhZlkuOlwJeFaIfgL0+i5t5jJycSGSpUqqZuG4YDReDO8iDTHMRHtjqm0TN/29s+kA7ZBDAvqGUnBhCVcJUzTJ6IXEzIYaumIs47H9SZBsDDhITUYchg9g837PeD+YlscDzPZ/CBpRJYfHT2zCE4YNxyTK/hBO80ltyY4OHd8rAwiD+MhQ2cN0cW8uepBwgQZfLjcRMnGTTfdpL5JBIax18CEASYqIGb0OXizteKFjiRCgBIHmtliCCvBaLjOxDJgchGC622bOAZMjcU/yuxPIBIXhgcCl1ooU/yoTM1nxhcPaGaAetNwEV5+y5wT++bzBI9h9hoLEyPSgwBIxNPlM/RVMO6aSRY8EIi74guuRZs04M9588031ZeTEYlyF3jQnGnQoEFkw4YNbk3aJNJd4EHz7uOPP3ZL6ZMod0E0+NxobmZEotwF0eCPc4TGLaXNkeAuoPnv4ViZkW+++UbdNjB+/Hj9DpYtW6b+WJrgNMunTZumr/Pb9PoPvLpY8Kk6QpvyO16wYEHkq6++SinT/HaELHLFFVdoHWVeZ19sm2b7d999p64DoN7DWx83bpy6Ohxh1XsVt4RjyWrTH1dEv379IiNHjtT3psXUqVPdtQPHCLgTOLZVq1ZFli9frnVcE64F7go/SDqRBafpHNcNl2iRBX4g7du31x9LevghsuBY89pBkRF+iCw3DL7BjB5wfogssG/8d+lxJIhsImnSpEmkatWqKQs+zHhp1aqVdmIlO0k5TpZZM87NpL6hoMFXhX8Mf1YY4JvGvxWG24DmGQGicduEAf666NjGRsbgNyWsobdkJmA94U7jHep3JJOUIgtEASL+pWNZujXBQccBAYsJZBw0iDxBldPKTuE3+NGI6ESM0KBh/C8BTIj47xgYbq1h+EvSiiw9sAz4D8uqIuMCkYbC6IQjshlRl+hUCENssCbpvKDjI2hoRZD/yktzYhh+k7QiCwwHoZeU3tKgxYZeV1J6EJw4DKGlh3f+/PmppgHyG4bqMLON86eHOmgY0oXLJIyWhJF8JLXIwhVXXKFCE8bQKsYCtmzZUsf/hcFrr72mIp/aMBq/YVgPuadISxI0xCVlSBfnz5Rnw/CTpBdZbjjmcjPfmfFyQcOYQCzpMKwqOqIYM5jWAG6/YSA6PvGMovL7Ab5pknqG5Zs2koekF1lAbAhKQmpib1ZKUCDydMKxMEA8aIiEj5+S4CxhgG+6f//+oeRzK1eunAZJzylJO40jExNZF3qeidRDh0zQNxw+SmaiebNVghZ6ZgaRP5+UJkHvG7cBnY8M7WLfQV973EX4hRmeZEJr+EGuDXXoF127dtXULvhJ6ZB64YUX4g4rmF3ojCF/kTf1t1ixYpqXPnrOtV8wbpa0NuTbZ9ol+9+wYYP7qv8gciT8Y/wwIReZs045CBD3WrVqqQuBsdNcb+bE57RcUt99953myDJyF2bJRoG40HSk+UqHCP7C7MTvzCw879gfNzlxDggqE4TAAm4LxG3BggV63sxFDxKCltCK4Dg4d3zVQcHceyz5iRMn6sOFc89tyfqMnIuJbBTMTvn000817THpjkn3QSCLoGjRooUOlieSe8GCBbX3PSgQc2b3MKyNYC7RmYWDgGtOpDAedPhKcWEEBVlZ8Ylz3lj0BA8xjERxRLsLBg0cKLt2Z376KE3mp9s9rVNQ8+XP59ZmDscgcyxTt5BJiFbF10I20qyCJR5vNoZYiIDEWNLoVM2Zwjtv5xpkFjIjjBkzVtq2zfoDBms4Kz9rBJbOT0aaZLUFUbDgSdK4cRO3lFjMXZA7OaJFts3dN0mXzk+5pWD5acgoadqkrlsKntKVr5KlMxOfOjseNm3aKqvXbpCzK5Rxa4Jjy5btzr7XS4Xywbo7PK64vq0MHjLSLSUWE9ncibkLDMMwfMRE1jAMw0dMZA3DMHzERNYwDMNHTGQNwzB8xETWMAzDR0xkDcMwfMRE1jAMw0dMZA3DMHzERNYwDMNHMiWyGzdulHnz5lnKDsMwjDiJS2RJuEcEeULvEWCZSE2//vqr+6p/fPbZZxpP1TAMI7cSl8iSPhqRHTZsmAwYMEAzjZKAj7ijQNqU5cuXa5g6D6xeohqtWLFC1q1b59YegGDQy5YtOyRTKbFMqfPey2tERCLBYdDR+g3DMBJFhiJL2D+E7+6773ZrRCpVqiRz5szR1CHr16+XokWLSp06daREiRIpmVebNGkil156qSbLK168uMyYMUPrsU4pE8avcuXKGqAZ8S5cuLBcdNFFug2yE4wYMUKmT5+uKWGmTp2qnzUMw8htZCiyf/75p1SvXt0tHcSLVdq0aVPNNrp06VJNIUJkfy96YuvWrTXi/NChQzXqPYJKGubVq1drGm4s5DFjxuiyZs0azTFFVgKWxo0bq0CPHDlSE/0ZhmHkRjIUWazO1FJlY8HiJsCirVixogZKLl++vOal8iDSPFCPwCLCZEclAwG8/PLLcvHFF2uMTHJpXXPNNfLWW29Zx5phGEcMGYos0fERWaxMD/ylpCehUwqXgeeb5W+s/zUaXAKIrceoUaNkypQp0qxZM3UffPPNNxqV3jAM40ghQ5EFOrnwjY4ePVrFliR3+E9xI7Rv314eeughWbVqlbzzzjsqyli1qYFFS1qPfv366fvbtGmjHWTk3Mc/u2XLFuncuXOKaPPeSZMmhZKT3zAMIxHEJbJPP/209O7dW3788Ud577331K9K0jt49NFH1feKwJYsWVIGDx6s9Y899piULVtW1wsUKCB33nmnrg8cOFD9r2SFZZQC7gL8rh9//LH06tVL/95222363kGDBqlbAr+uYRhGbsRyfPmE5fiyHF+JxnJ85U7ismQNwzCMrGEiaxiG4SMmsoZhGD5iImsYhuEjJrKGYRg+YiJrGIbhIyayhmEYPmIiaxiG4SMmsoZhGD5iImsYhuEjR/S02iuvbCrHuHFvs8KGjRulcKFCbilz7Nm7V/Ice6xbyjxz586Ts86q4JYyz6bNm+XkggXdUuZZsnSplCmdtamp+/dHJBLZL8ccc4xbkzn++muVFC9+mlvKHPyc+UEfnUaQoozIzr6h4MkF5YsvermlxEHmEOI2N2/e3K0xcg2IrJE6Q4YMcdeCp3Xr1u5aOHTs2NFdC56uXbu6a8HTrVs3dy1nMWDAgMjQoUPdkpGbMHeBYeRw9u3bJ506dZKaNWu6NUZuwkTWMHIwJCN96aWXpEOHDpI/f3631shNmMgaRg6EzM2ff/65tG3bVvPo1a5d233FyG2YyBpGDqRUqVJyxx13SJcuXUxgczkmsoZhGD5iImsYhuEjJrKGYRg+YiJrGIbhIyayhmEYPmIiaxiG4SMmsoZhGD5iImsYhuEjJrKGYRg+YiJrGIbhIyayhmEYPnJEB+02DMMIG7NkDcMwfMRE1jAMw0dMZA3DMHzERNYwDMNHTGQNwzB8xETWMAzDR0xkDcMwfMRE1jAMw0dMZA3DMHzERNYwDMNHTGQNwzB8xETWMAzDR0xkDcMwfMRE1shRbN+xU3bv2euW4mPb3ztk7759bilYOFaO2TDSwkQ2RP6cvVB69P1Zdu7a7dbkLjj+93r2l01btrk1abNo+Srp8vWgdN/719oN0q33TzLg19FuzeFwrbhmv46arOXZC5fJh70Gyojx07XsJ+x76/a/3ZLI3r375NufhsmnfX+RzVu3u7X+410Drr+R8zGRNXIMpxYpJE0bXiANa53j1mRMuVLF5epLasv5VSu4Nf4xcuIM6TN4RMpD8dhjj5FL69aQyxvUlIIF8mudYcRiIpvD2L8/olYRFl+0hUtzmPrYZnFq9TRh+Tz1bC8aLDFeZ9sLlq48ZB/pfc6Dz/OezDbpo2GfbCO2mX300UdJ8aKFDxMs77jY9/6YGPPHHnOMlChWRPKdcJyW2Tbb5XosX7VO1m7YrPUe3vFHn3c03vWMvaYH3Bh7ZN++/fqa93mOtXixwroeTVr74bpu2fa3btu7Drw3NbzX0/s+jJyPZUYIEZp7k2bMk1ZXNZLjj8srS1auloG/jdWb+RhHPHbt3iNVziyjlhI3XK8ffpOzy5WSiy6o5m5B5I+J02XanMVy6zWXyEkn5pMRE6bJuKlzVHxoziI+1zSuKyVPLaLb+Grg71KsyMkyb/EKvXGbX1ZPzjj9tHQ/B9zs3/9vlIrWcXmP1bozS5eUhcv+ktuubSwnn3Si1qUF7oJf/pgoFZ3jnzh9rlqBnF/ZkqepJcr5e8dXo0oFObdiOf3cmCmz1II85pijhZ8qgrp1+w495sZ1q+txffPjMLms/vlahxth5Zr1sm//flm9bqPUrHqWvm/Dpq3Sb8gfzvu36765xudWLC+X1DlPzxmmzV0k/xs5Sdfh6KOP1u1WKl9afvhttMxfstIRx/1yfN48Ur3ymVK/ZlXd3/pNW+SmKxvqZ1LbT6XyZeSKi2rqfrzj5bryHbAPrsOZZUo417vOgevvCPDg4RNk1oKlzrXO4wj7PsmbJ4++Xqp40VSvk5FzOeYFB3fdCBhEAD9ktbPOkD2OsP04dJycekohFa061StL0UIFZdy0OXJa0UIqjGs3bJIVq9dJJUd4ER0svD8mTNcbtkqFsjJz/hIZNWmGXN2ojlzZsJbUrHaWWnOzFixRoYDpcxfLuo0HRKFJvRpSyBHHjD531FFHyY/DxqkY3Hl9E2lQs5qK4+jJs1T4znFudEQyPRCXaXMW6TZuv+5S3caZpUvIhOnz5O8du7TZj7hwfMUdIT3NuQ4I82+jp0gD56Fy/WX15cJzK8nq9RsdYV+lYstnEJwZ85ZIeWdbnMsi57V5jhheeG5FualpQ30P1+n7/42UE/PlkzuaN5F6Naqoa2LU5JlygnPcWM+c7+Dh46Xe+VXlhssb6L6279jhPATny1llS+o5cpx79u51rsFlUq50cT0v9rdj5y69/hzLd7/8IQVOzJ+ynzIlTpUxf87SB1fpEsX0PVNmLtDvm+vAA5PvdsK0ufqgKlr4ZEfsF+u1uq5JPX3AXnDO2XoteHhUqVDmsOtk5GzMXZBDOOH4vHpjetYMnOKI7FHOX5qXgBWLFbdm/SYt85emZAVHBGjGTpm1wBGE09Uqgrx5jtWbeOeuPSmfgXMqnqFiDvF8DkuNB0K986s4QnWCvofPVz2rrK7HC2KNYERvg2PBGt7+9+E99LPmL3VEp6BUr3SmlnEnXFDtbCmQ/8Dn0wLhOefsgxbe4hWr9Lo1rFVNzw041wplSsqCpX9pearTqihcsICcV6m8ltnXxReeK7dc3Ujy5zte6zJi6V9r9LuqfV6llP2cftopeizzlqxQgVWcL5UHmXcdsE5xO6xed+A7wjp98LZrnAfZqVrm98BvgVEUKdswcg0msjkIbqCxf86WLwf8Ku/2/F57kP92rCSPkqeeogIzZ+EyLSNOuAhKFS+mFhZWIr3tfNZbvh40VH1+Gx1L0qNA/nzumsT1OfyRWM6nnFzQ/dQBMtvZc1zevCoW0WDF0QTnOGJBVLDs2LcHzeeMrGbe44kc7Ni529nWTvl64NBDznHOomV6jlx39lXMsW69BxywzjlG16UH+0GQi5x8kltzgEIFT9Rr6AlknmOPTRHYaPbv3++uibZYcFEwIqPzZ/1k8sz57itGbsNENoeARfp5vyHyp2NVnnF6cWnepL76WfOfcNCKQjhopmIx8f7FThOy7OmnHSIo5Z3XaaZ6S33H+ry0bnW1ltIjo8/huY/uCMoKkQhiGtNx55SpT4s92ehgiybf8cdJrXMrHnKOjGLALYPoQSL2RcsgWiyzwshJM+Qb5yGHz7z++VXlTqeFgw/YyJ2YyOYQNmzeKvucmwo/XN0albWZSWdHbL8kzXp8gDTxt+/YpR1JgFCc4AjJUUcdrR0i3oIvEX8hTeHUiOdzJzrWGcIR7XKAv9asd9fiA4t53cZDe/v/WrNB95+adYqVzvujRzJgeW5zmv6ZgeOHMk7zO/oc6ZDiemIpY33G7gvrFt8of+OB4+Xz0a0GWLFqnRQ8Mb/ki3pgpgfvr1iutFx7aV31wWbUqWjkbExkcwgI6l6nyYyVCjQt6fGPdhcAYlDYWcZPm6PNUK9pilCcc/YZMn/JCm1aYgVxw9Nb/sm3g9WvmhrxfI4mOxbt8PHT1DcL9LTPXbxC/YuZgdEC3jbmLl6uPfr4RlMT2apnnaGCNXz81JTjGjFhuux0xDoz4E4pWCCfjgSgBQDL/lor3fsMlt/HTNEy/m72NWzcVLXY2Rfni/vm6KMOnGSBE0/Qzi+OPzXfKNeo8MkFZMjIiSn7mTFvsZ4nD63oFkd64O6gg88Td641Iw2M3ImNLgiR6NEFWIwM9xk1cWbKcCo6ff7esVMtMK8XmQ4Zhidx49HBEj1GEzFk2NBwRyjYBoJGhxID/PHnptUrndHnAAFZunKtCg/DxujprlO9kqxyzqGqY/HGM7pgqSNsdOr8NGycbmfOwuVSzRF4Rg8wlCn2+LAM8XGOmTxLjwvBw62B9U3zP63RBV5vvwcPEnr25zli9/vYP/X4pzviR+fXJXWq6+vsi8+PnzZXhZZrgKByDbg+wOv4wcc4x8H50IqI3h/nwDAy3vObI97sh1EB51c9W2qdc7ZuI/Z4wTtv/L+cUzFnf4zs4DgYvsa1Pq1oYW0J8FsBG12Qe7BxsjkMbjgEjiZ0WpYPNxh+u5bNLk6z84lmNTd9tE83HjL6HCLBzU7nGYLvgZj0+2Vkqh1YCI83jhTiOcdosGI5rng6vTICCxVRRLzT6tBiXxDdQRgN54/QR59/LGldp8xAZxlumrSOw8gdmMjmIhCIjZu36phVxnZecdEF7ivh4wlnaj+nPI6QZlbsDeNIwUQ2F4FPceKMeSqwN1xeP+6OFMMwwsNE1jAMw0dsdIFhGIaPmMgahmH4iImsYRiGj5jIGoZh+IiJrGEYhm+I/D+fu5KTwzBb9wAAAABJRU5ErkJggg==)\n",
        "\n",
        "Hal yang menarik dari penggunaan RNN dengan return_sequences=True adalah outputnya masih memiliki 3 axis, sama seperti inputnya, sehingga bisa diteruskan ke layer RNN lain, seperti ini:"
      ]
    },
    {
      "cell_type": "code",
      "execution_count": 22,
      "metadata": {
        "id": "zHrfciDBJZDH"
      },
      "outputs": [],
      "source": [
        "model = tf.keras.Sequential([\n",
        "    encoder,\n",
        "    tf.keras.layers.Embedding(len(encoder.get_vocabulary()), 64, mask_zero=True),\n",
        "    tf.keras.layers.Bidirectional(tf.keras.layers.LSTM(64, return_sequences=True)),\n",
        "    tf.keras.layers.Bidirectional(tf.keras.layers.LSTM(32)),\n",
        "    tf.keras.layers.Dense(64, activation='relu'),\n",
        "    tf.keras.layers.Dropout(0.5),\n",
        "    tf.keras.layers.Dense(1)\n",
        "])"
      ]
    },
    {
      "cell_type": "code",
      "execution_count": 23,
      "metadata": {
        "id": "VHl9eOZoJiPt"
      },
      "outputs": [],
      "source": [
        "model.compile(loss=tf.keras.losses.BinaryCrossentropy(from_logits=True),\n",
        "              optimizer=tf.keras.optimizers.Adam(1e-4),\n",
        "              metrics=['accuracy'])"
      ]
    },
    {
      "cell_type": "code",
      "execution_count": 24,
      "metadata": {
        "colab": {
          "base_uri": "https://localhost:8080/"
        },
        "id": "ueGlnAaQJm2R",
        "outputId": "81ca84ba-9461-4522-c623-956407688781"
      },
      "outputs": [
        {
          "output_type": "stream",
          "name": "stdout",
          "text": [
            "Epoch 1/10\n",
            "391/391 [==============================] - 78s 155ms/step - loss: 0.6146 - accuracy: 0.6021 - val_loss: 0.4336 - val_accuracy: 0.8068\n",
            "Epoch 2/10\n",
            "391/391 [==============================] - 47s 120ms/step - loss: 0.3779 - accuracy: 0.8360 - val_loss: 0.3448 - val_accuracy: 0.8516\n",
            "Epoch 3/10\n",
            "391/391 [==============================] - 47s 120ms/step - loss: 0.3321 - accuracy: 0.8571 - val_loss: 0.3345 - val_accuracy: 0.8562\n",
            "Epoch 4/10\n",
            "391/391 [==============================] - 47s 119ms/step - loss: 0.3161 - accuracy: 0.8650 - val_loss: 0.3285 - val_accuracy: 0.8526\n",
            "Epoch 5/10\n",
            "391/391 [==============================] - 47s 119ms/step - loss: 0.3087 - accuracy: 0.8694 - val_loss: 0.3365 - val_accuracy: 0.8464\n",
            "Epoch 6/10\n",
            "391/391 [==============================] - 47s 119ms/step - loss: 0.3057 - accuracy: 0.8698 - val_loss: 0.3449 - val_accuracy: 0.8620\n",
            "Epoch 7/10\n",
            "391/391 [==============================] - 48s 121ms/step - loss: 0.3037 - accuracy: 0.8719 - val_loss: 0.3282 - val_accuracy: 0.8531\n",
            "Epoch 8/10\n",
            "391/391 [==============================] - 47s 119ms/step - loss: 0.3008 - accuracy: 0.8724 - val_loss: 0.3171 - val_accuracy: 0.8562\n",
            "Epoch 9/10\n",
            "391/391 [==============================] - 47s 120ms/step - loss: 0.2961 - accuracy: 0.8730 - val_loss: 0.3226 - val_accuracy: 0.8484\n",
            "Epoch 10/10\n",
            "391/391 [==============================] - 47s 120ms/step - loss: 0.2962 - accuracy: 0.8736 - val_loss: 0.3208 - val_accuracy: 0.8620\n"
          ]
        }
      ],
      "source": [
        "history = model.fit(train_dataset, epochs=10,\n",
        "                    validation_data=test_dataset,\n",
        "                    validation_steps=30)"
      ]
    },
    {
      "cell_type": "code",
      "execution_count": 25,
      "metadata": {
        "colab": {
          "base_uri": "https://localhost:8080/"
        },
        "id": "OagnFVRpJp9f",
        "outputId": "0436c483-d85e-4f36-bc36-50df6c0b31cb"
      },
      "outputs": [
        {
          "output_type": "stream",
          "name": "stdout",
          "text": [
            "391/391 [==============================] - 19s 48ms/step - loss: 0.3174 - accuracy: 0.8623\n",
            "Test Loss: 0.31735244393348694\n",
            "Test Accuracy: 0.862280011177063\n"
          ]
        }
      ],
      "source": [
        "test_loss, test_acc = model.evaluate(test_dataset)\n",
        "\n",
        "print('Test Loss:', test_loss)\n",
        "print('Test Accuracy:', test_acc)"
      ]
    },
    {
      "cell_type": "code",
      "execution_count": 26,
      "metadata": {
        "colab": {
          "base_uri": "https://localhost:8080/"
        },
        "id": "-43PpQ3vJsFd",
        "outputId": "170dbe13-45a9-4609-f3bc-f28e7aec48de"
      },
      "outputs": [
        {
          "output_type": "stream",
          "name": "stdout",
          "text": [
            "1/1 [==============================] - 6s 6s/step\n",
            "[[-1.9773127]]\n"
          ]
        }
      ],
      "source": [
        "# predict on a sample text without padding.\n",
        "\n",
        "sample_text = ('The movie was not good. The animation and the graphics '\n",
        "              'were terrible. I would not recommend this movie.')\n",
        "predictions = model.predict(np.array([sample_text]))\n",
        "print(predictions)"
      ]
    },
    {
      "cell_type": "code",
      "execution_count": 27,
      "metadata": {
        "colab": {
          "base_uri": "https://localhost:8080/",
          "height": 376
        },
        "id": "yx8F2FgoJuhH",
        "outputId": "8691b426-8c33-452a-ea0e-f1e8322baeec"
      },
      "outputs": [
        {
          "output_type": "display_data",
          "data": {
            "text/plain": [
              "<Figure size 1600x600 with 2 Axes>"
            ],
            "image/png": "[encoded data removed]"
          },
          "metadata": {}
        }
      ],
      "source": [
        "plt.figure(figsize=(16, 6))\n",
        "plt.subplot(1, 2, 1)\n",
        "plot_graphs(history, 'accuracy')\n",
        "plt.subplot(1, 2, 2)\n",
        "plot_graphs(history, 'loss')"
      ]
    },
    {
      "cell_type": "markdown",
      "metadata": {
        "id": "rK5kJ1bAJwX5"
      },
      "source": [
        "# PRAKTIKUM 2\n",
        "Generator Teks dengan RNN\n",
        "\n",
        "Praktikum ini mendemonstrasikan cara melakukan genearsi text menggunakan RNN. Dataset yang digunkan adalah dataset Shakespeare's writing from Andrej Karpathy's The Unreasonable Effectiveness of Recurrent Neural Networks. Jika diberikan urutan karakter dari data ini (\"Shakespear\"), latih model untuk memprediksi karakter berikutnya dalam urutan (\"e\"). Urutan teks yang lebih panjang dapat dihasilkan dengan memanggil model berulang kali.\n",
        "\n",
        "Note: Enable GPU acceleration to execute this notebook faster. In Colab: Runtime > Change runtime type > Hardware accelerator > GPU.\n",
        "\n",
        "Tutorial ini menggunakan tf.keras dan eager execution. Berikut adalah contoh output ketika model dalam tutorial ini dilatih selama 30 epoch, dan dimulai dengan prompt \"Q\":"
      ]
    },
    {
      "cell_type": "markdown",
      "metadata": {
        "id": "Fic9U_oBJ92V"
      },
      "source": [
        "Meskipun beberapa kalimat memiliki tata bahasa, sebagian besar tidak masuk akal. Model belum mempelajari arti kata-kata, namun anggap saja:\n",
        "\n",
        "-Modelnya berbasis karakter. Saat pelatihan dimulai, model tidak mengetahui cara mengeja kata dalam bahasa Inggris, atau bahkan kata-kata tersebut merupakan satuan teks.\n",
        "\n",
        "-Struktur keluarannya menyerupai sandiwara—blok teks umumnya dimulai dengan nama pembicara, dengan huruf kapital semua mirip dengan kumpulan data.\n",
        "\n",
        "-Seperti yang ditunjukkan di bawah, model dilatih pada kumpulan teks kecil (masing-masing 100 karakter), dan masih mampu menghasilkan rangkaian teks yang lebih panjang dengan struktur yang koheren."
      ]
    },
    {
      "cell_type": "markdown",
      "metadata": {
        "id": "jbUT4cI0KFT-"
      },
      "source": [
        "### SETUP\n",
        "\n",
        "#### Import Tensorflow"
      ]
    },
    {
      "cell_type": "code",
      "execution_count": 4,
      "metadata": {
        "id": "s9xitrydJ9Bh"
      },
      "outputs": [],
      "source": [
        "import tensorflow as tf\n",
        "import numpy as np\n",
        "import os\n",
        "import time"
      ]
    },
    {
      "cell_type": "markdown",
      "metadata": {
        "id": "6aFmwb3wKMDZ"
      },
      "source": [
        "#### Download Dataset Shakespeare\n",
        "\n",
        "Sesuaikan dengan lokasi data yang Anda punya."
      ]
    },
    {
      "cell_type": "code",
      "execution_count": 5,
      "metadata": {
        "colab": {
          "base_uri": "https://localhost:8080/"
        },
        "id": "eocuHKVuKOoN",
        "outputId": "1ae7640d-f57d-4595-a4e1-63cfe5478afd"
      },
      "outputs": [
        {
          "output_type": "stream",
          "name": "stdout",
          "text": [
            "Downloading data from https://storage.googleapis.com/download.tensorflow.org/data/shakespeare.txt\n",
            "1115394/1115394 [==============================] - 0s 0us/step\n"
          ]
        }
      ],
      "source": [
        "path_to_file = tf.keras.utils.get_file('shakespeare.txt', 'https://storage.googleapis.com/download.tensorflow.org/data/shakespeare.txt')"
      ]
    },
    {
      "cell_type": "markdown",
      "metadata": {
        "id": "Vqe3QpmwKQe4"
      },
      "source": [
        "### Load Data"
      ]
    },
    {
      "cell_type": "code",
      "execution_count": 6,
      "metadata": {
        "colab": {
          "base_uri": "https://localhost:8080/"
        },
        "id": "FCCus2-SKTHf",
        "outputId": "481a460d-ae40-49f7-afa9-5ffa5e163efc"
      },
      "outputs": [
        {
          "output_type": "stream",
          "name": "stdout",
          "text": [
            "Length of text: 1115394 characters\n"
          ]
        }
      ],
      "source": [
        "# Read, then decode for py2 compat.\n",
        "text = open(path_to_file, 'rb').read().decode(encoding='utf-8')\n",
        "# length of text is the number of characters in it\n",
        "print(f'Length of text: {len(text)} characters')"
      ]
    },
    {
      "cell_type": "code",
      "execution_count": 7,
      "metadata": {
        "colab": {
          "base_uri": "https://localhost:8080/"
        },
        "id": "KN_H5cjuKa8h",
        "outputId": "edcf9dec-b4b9-4854-fcad-5311b868bc37"
      },
      "outputs": [
        {
          "output_type": "stream",
          "name": "stdout",
          "text": [
            "First Citizen:\n",
            "Before we proceed any further, hear me speak.\n",
            "\n",
            "All:\n",
            "Speak, speak.\n",
            "\n",
            "First Citizen:\n",
            "You are all resolved rather to die than to famish?\n",
            "\n",
            "All:\n",
            "Resolved. resolved.\n",
            "\n",
            "First Citizen:\n",
            "First, you know Caius Marcius is chief enemy to the people.\n",
            "\n"
          ]
        }
      ],
      "source": [
        "# Take a look at the first 250 characters in text\n",
        "print(text[:250])"
      ]
    },
    {
      "cell_type": "code",
      "execution_count": 8,
      "metadata": {
        "colab": {
          "base_uri": "https://localhost:8080/"
        },
        "id": "4CjtJvmiKcMM",
        "outputId": "52606581-683e-4580-a67f-6322fd5af854"
      },
      "outputs": [
        {
          "output_type": "stream",
          "name": "stdout",
          "text": [
            "65 unique characters\n"
          ]
        }
      ],
      "source": [
        "# The unique characters in the file\n",
        "vocab = sorted(set(text))\n",
        "print(f'{len(vocab)} unique characters')"
      ]
    },
    {
      "cell_type": "markdown",
      "metadata": {
        "id": "TVweGPZlKc9-"
      },
      "source": [
        "### Olah Teks\n",
        "\n",
        "#### Vectorize Teks\n",
        "Sebelum training, Anda perlu mengonversi string menjadi representasi numerik. tf.keras.layers.StringLookup dapat mengubah setiap karakter menjadi ID numerik. Caranya adalah teks akan dipecah menjadi token terlebih dahulu."
      ]
    },
    {
      "cell_type": "code",
      "execution_count": 9,
      "metadata": {
        "colab": {
          "base_uri": "https://localhost:8080/"
        },
        "id": "7D3-Ru_IKhGh",
        "outputId": "7f587a59-0001-4ea5-f732-01c47b5aa919"
      },
      "outputs": [
        {
          "output_type": "execute_result",
          "data": {
            "text/plain": [
              "<tf.RaggedTensor [[b'a', b'b', b'c', b'd', b'e', b'f', b'g'], [b'x', b'y', b'z']]>"
            ]
          },
          "metadata": {},
          "execution_count": 9
        }
      ],
      "source": [
        "example_texts = ['abcdefg', 'xyz']\n",
        "chars = tf.strings.unicode_split(example_texts, input_encoding='UTF-8')\n",
        "chars"
      ]
    },
    {
      "cell_type": "markdown",
      "metadata": {
        "id": "8_5PKlseKmNt"
      },
      "source": [
        "sekarang buat tf.keras.layers.StringLookup layer:"
      ]
    },
    {
      "cell_type": "code",
      "execution_count": 10,
      "metadata": {
        "id": "9ZQI8z4XKm96"
      },
      "outputs": [],
      "source": [
        "ids_from_chars = tf.keras.layers.StringLookup(\n",
        "vocabulary=list(vocab), mask_token=None)"
      ]
    },
    {
      "cell_type": "markdown",
      "metadata": {
        "id": "fyrCEMJsKtRq"
      },
      "source": [
        "perintah diatas mengconvert token menjadi id"
      ]
    },
    {
      "cell_type": "code",
      "execution_count": 11,
      "metadata": {
        "colab": {
          "base_uri": "https://localhost:8080/"
        },
        "id": "M3sXo3OlKugP",
        "outputId": "1f45a2db-37e9-4a95-faba-ff4eae03e258"
      },
      "outputs": [
        {
          "output_type": "execute_result",
          "data": {
            "text/plain": [
              "<tf.RaggedTensor [[40, 41, 42, 43, 44, 45, 46], [63, 64, 65]]>"
            ]
          },
          "metadata": {},
          "execution_count": 11
        }
      ],
      "source": [
        "ids = ids_from_chars(chars)\n",
        "ids"
      ]
    },
    {
      "cell_type": "markdown",
      "metadata": {
        "id": "9eoyQ9XXKxae"
      },
      "source": [
        "Karena tujuan tutorial ini adalah untuk menghasilkan teks, penting juga untuk membalikkan representasi ini. Untuk ini Anda dapat menggunakan kode tf.keras.layers.StringLookup(..., invert=True).\n",
        "\n",
        "Catatan: pada kode ini, daripada meneruskan kosakata asli yang dihasilkan dengan diurutkan(set(teks)) gunakan metode get_vocabulary() dari tf.keras.layers.StringLookup sehingga token [UNK] disetel dengan cara yang sama."
      ]
    },
    {
      "cell_type": "code",
      "execution_count": 12,
      "metadata": {
        "id": "bpkwEbBeKzyI"
      },
      "outputs": [],
      "source": [
        "chars_from_ids = tf.keras.layers.StringLookup(\n",
        "    vocabulary=ids_from_chars.get_vocabulary(), invert=True, mask_token=None)"
      ]
    },
    {
      "cell_type": "markdown",
      "metadata": {
        "id": "Sq-EWhwXK3p-"
      },
      "source": [
        "Lapisan ini mengconvert kembali karakter dari vektor ID, dan mengembalikannya sebagai karakter tf.RaggedTensor:"
      ]
    },
    {
      "cell_type": "code",
      "execution_count": 13,
      "metadata": {
        "colab": {
          "base_uri": "https://localhost:8080/"
        },
        "id": "PTg9zq60K4IQ",
        "outputId": "e17b023f-01b2-4d40-d8b4-7c94c5dbbcce"
      },
      "outputs": [
        {
          "output_type": "execute_result",
          "data": {
            "text/plain": [
              "<tf.RaggedTensor [[b'a', b'b', b'c', b'd', b'e', b'f', b'g'], [b'x', b'y', b'z']]>"
            ]
          },
          "metadata": {},
          "execution_count": 13
        }
      ],
      "source": [
        "chars = chars_from_ids(ids)\n",
        "chars"
      ]
    },
    {
      "cell_type": "markdown",
      "metadata": {
        "id": "ZmpmJttfK6nt"
      },
      "source": [
        "Anda dapat menggunakan tf.strings.reduce_join untuk menggabungkan kembali karakter menjadi string."
      ]
    },
    {
      "cell_type": "code",
      "execution_count": 14,
      "metadata": {
        "colab": {
          "base_uri": "https://localhost:8080/"
        },
        "id": "p9UuFRLmK7dP",
        "outputId": "70860e76-25c1-4d94-b6af-91aee090d0ea"
      },
      "outputs": [
        {
          "output_type": "execute_result",
          "data": {
            "text/plain": [
              "array([b'abcdefg', b'xyz'], dtype=object)"
            ]
          },
          "metadata": {},
          "execution_count": 14
        }
      ],
      "source": [
        "tf.strings.reduce_join(chars, axis=-1).numpy()"
      ]
    },
    {
      "cell_type": "code",
      "execution_count": 15,
      "metadata": {
        "id": "Gl2WPS_qK-EF"
      },
      "outputs": [],
      "source": [
        "def text_from_ids(ids):\n",
        "    return tf.strings.reduce_join(chars_from_ids(ids), axis=-1)"
      ]
    },
    {
      "cell_type": "markdown",
      "metadata": {
        "id": "X5fzuYacLCZe"
      },
      "source": [
        "### Prediksi\n",
        "\n",
        "Diberikan sebuah karakter, atau serangkaian karakter, karakter apa yang paling mungkin berikutnya? Ini adalah tugas yang harus Anda latih agar model dapat melakukannya. Masukan ke model akan berupa urutan karakter, dan Anda melatih model untuk memprediksi keluaran berupa karakter berikut pada setiap langkah waktu. Karena RNN mempertahankan keadaan internal yang bergantung pada elemen yang terlihat sebelumnya, mengingat semua karakter dihitung hingga saat ini, karakter apa selanjutnya?\n",
        "\n"
      ]
    },
    {
      "cell_type": "markdown",
      "metadata": {
        "id": "-c1dSxk_LHFB"
      },
      "source": [
        "### Membuat Training Set dan Target\n",
        "\n",
        "Selanjutnya bagilah teks menjadi contoh sequence. Setiap masukan sequence akan berisi karakter seq_length dari teks. Untuk setiap masukan sequence, target prediksi berisi teks dengan panjang yang sama, hanya digeser satu karakter ke kanan. Jadi, bagi teks menjadi beberapa bagian seq_length+1. Misalnya, seq_length adalah 4 dan teks kita adalah \"Hello\". Urutan masukannya adalah \"Hell\", dan urutan targetnya adalah \"ello\". Untuk melakukan ini, pertama-tama gunakan fungsi tf.data.Dataset.from_tensor_slices untuk mengonversi vektor teks menjadi aliran indeks karakter."
      ]
    },
    {
      "cell_type": "code",
      "execution_count": 16,
      "metadata": {
        "colab": {
          "base_uri": "https://localhost:8080/"
        },
        "id": "aD4OpDDoLGN3",
        "outputId": "ee14cb8c-c5f6-416b-c7c3-e444b89b14b9"
      },
      "outputs": [
        {
          "output_type": "execute_result",
          "data": {
            "text/plain": [
              "<tf.Tensor: shape=(1115394,), dtype=int64, numpy=array([19, 48, 57, ..., 46,  9,  1])>"
            ]
          },
          "metadata": {},
          "execution_count": 16
        }
      ],
      "source": [
        "all_ids = ids_from_chars(tf.strings.unicode_split(text, 'UTF-8'))\n",
        "all_ids"
      ]
    },
    {
      "cell_type": "code",
      "execution_count": 17,
      "metadata": {
        "id": "AVgR_waPLNc9"
      },
      "outputs": [],
      "source": [
        "ids_dataset = tf.data.Dataset.from_tensor_slices(all_ids)"
      ]
    },
    {
      "cell_type": "code",
      "execution_count": 18,
      "metadata": {
        "colab": {
          "base_uri": "https://localhost:8080/"
        },
        "id": "n_a5h7DDLPDf",
        "outputId": "fae5bdd3-b94f-40ec-cae6-380317f8a8f6"
      },
      "outputs": [
        {
          "output_type": "stream",
          "name": "stdout",
          "text": [
            "F\n",
            "i\n",
            "r\n",
            "s\n",
            "t\n",
            " \n",
            "C\n",
            "i\n",
            "t\n",
            "i\n"
          ]
        }
      ],
      "source": [
        "for ids in ids_dataset.take(10):\n",
        "    print(chars_from_ids(ids).numpy().decode('utf-8'))"
      ]
    },
    {
      "cell_type": "code",
      "execution_count": 19,
      "metadata": {
        "id": "KduBBoe4LT0A"
      },
      "outputs": [],
      "source": [
        "seq_length = 100"
      ]
    },
    {
      "cell_type": "markdown",
      "metadata": {
        "id": "x4DL89uULWN-"
      },
      "source": [
        "Metode batch memungkinkan Anda dengan mudah mengonversi karakter individual ini menjadi urutan ukuran yang diinginkan."
      ]
    },
    {
      "cell_type": "code",
      "execution_count": 20,
      "metadata": {
        "colab": {
          "base_uri": "https://localhost:8080/"
        },
        "id": "RT5UWt0wLXV6",
        "outputId": "9e7934a6-5353-460f-cec8-d488631478d3"
      },
      "outputs": [
        {
          "output_type": "stream",
          "name": "stdout",
          "text": [
            "tf.Tensor(\n",
            "[b'F' b'i' b'r' b's' b't' b' ' b'C' b'i' b't' b'i' b'z' b'e' b'n' b':'\n",
            " b'\\n' b'B' b'e' b'f' b'o' b'r' b'e' b' ' b'w' b'e' b' ' b'p' b'r' b'o'\n",
            " b'c' b'e' b'e' b'd' b' ' b'a' b'n' b'y' b' ' b'f' b'u' b'r' b't' b'h'\n",
            " b'e' b'r' b',' b' ' b'h' b'e' b'a' b'r' b' ' b'm' b'e' b' ' b's' b'p'\n",
            " b'e' b'a' b'k' b'.' b'\\n' b'\\n' b'A' b'l' b'l' b':' b'\\n' b'S' b'p' b'e'\n",
            " b'a' b'k' b',' b' ' b's' b'p' b'e' b'a' b'k' b'.' b'\\n' b'\\n' b'F' b'i'\n",
            " b'r' b's' b't' b' ' b'C' b'i' b't' b'i' b'z' b'e' b'n' b':' b'\\n' b'Y'\n",
            " b'o' b'u' b' '], shape=(101,), dtype=string)\n"
          ]
        }
      ],
      "source": [
        "sequences = ids_dataset.batch(seq_length+1, drop_remainder=True)\n",
        "\n",
        "for seq in sequences.take(1):\n",
        "  print(chars_from_ids(seq))"
      ]
    },
    {
      "cell_type": "markdown",
      "metadata": {
        "id": "SktRk7UDLY6W"
      },
      "source": [
        "akan lebih mudah untuk melihat apa yang dilakukan jika Anda menggabungkan token kembali menjadi string:"
      ]
    },
    {
      "cell_type": "code",
      "execution_count": 21,
      "metadata": {
        "colab": {
          "base_uri": "https://localhost:8080/"
        },
        "id": "6fSpfR4uLZp5",
        "outputId": "52617357-c896-49e9-ecb4-6f954f4834de"
      },
      "outputs": [
        {
          "output_type": "stream",
          "name": "stdout",
          "text": [
            "b'First Citizen:\\nBefore we proceed any further, hear me speak.\\n\\nAll:\\nSpeak, speak.\\n\\nFirst Citizen:\\nYou '\n",
            "b'are all resolved rather to die than to famish?\\n\\nAll:\\nResolved. resolved.\\n\\nFirst Citizen:\\nFirst, you k'\n",
            "b\"now Caius Marcius is chief enemy to the people.\\n\\nAll:\\nWe know't, we know't.\\n\\nFirst Citizen:\\nLet us ki\"\n",
            "b\"ll him, and we'll have corn at our own price.\\nIs't a verdict?\\n\\nAll:\\nNo more talking on't; let it be d\"\n",
            "b'one: away, away!\\n\\nSecond Citizen:\\nOne word, good citizens.\\n\\nFirst Citizen:\\nWe are accounted poor citi'\n"
          ]
        }
      ],
      "source": [
        "for seq in sequences.take(5):\n",
        "    print(text_from_ids(seq).numpy())"
      ]
    },
    {
      "cell_type": "markdown",
      "metadata": {
        "id": "jWqJFnU0Ldyt"
      },
      "source": [
        "Untuk pelatihan, Anda memerlukan kumpulan data pasangan (input, label). Dimana input dan label merupakan urutan. Pada setiap langkah waktu, inputnya adalah karakter saat ini dan labelnya adalah karakter berikutnya. Berikut adalah fungsi yang mengambil urutan sebagai masukan, menduplikasi, dan menggesernya untuk menyelaraskan masukan dan label untuk setiap langkah waktu:"
      ]
    },
    {
      "cell_type": "code",
      "execution_count": 22,
      "metadata": {
        "id": "vdmRw-7JLft1"
      },
      "outputs": [],
      "source": [
        "def split_input_target(sequence):\n",
        "    input_text = sequence[:-1]\n",
        "    target_text = sequence[1:]\n",
        "    return input_text, target_text"
      ]
    },
    {
      "cell_type": "code",
      "execution_count": 23,
      "metadata": {
        "colab": {
          "base_uri": "https://localhost:8080/"
        },
        "id": "IQByuIKBLm1-",
        "outputId": "55466b96-897d-415b-db55-527d7fa6afde"
      },
      "outputs": [
        {
          "output_type": "execute_result",
          "data": {
            "text/plain": [
              "(['T', 'e', 'n', 's', 'o', 'r', 'f', 'l', 'o'],\n",
              " ['e', 'n', 's', 'o', 'r', 'f', 'l', 'o', 'w'])"
            ]
          },
          "metadata": {},
          "execution_count": 23
        }
      ],
      "source": [
        "split_input_target(list(\"Tensorflow\"))"
      ]
    },
    {
      "cell_type": "code",
      "execution_count": 24,
      "metadata": {
        "id": "JEuF6dijLndV"
      },
      "outputs": [],
      "source": [
        "dataset = sequences.map(split_input_target)"
      ]
    },
    {
      "cell_type": "code",
      "execution_count": 25,
      "metadata": {
        "colab": {
          "base_uri": "https://localhost:8080/"
        },
        "id": "jXRUhxjHLpdq",
        "outputId": "3b334ac5-6e5c-4aa7-9ae2-e0dd246071af"
      },
      "outputs": [
        {
          "output_type": "stream",
          "name": "stdout",
          "text": [
            "Input : b'First Citizen:\\nBefore we proceed any further, hear me speak.\\n\\nAll:\\nSpeak, speak.\\n\\nFirst Citizen:\\nYou'\n",
            "Target: b'irst Citizen:\\nBefore we proceed any further, hear me speak.\\n\\nAll:\\nSpeak, speak.\\n\\nFirst Citizen:\\nYou '\n"
          ]
        }
      ],
      "source": [
        "for input_example, target_example in dataset.take(1):\n",
        "    print(\"Input :\", text_from_ids(input_example).numpy())\n",
        "    print(\"Target:\", text_from_ids(target_example).numpy())"
      ]
    },
    {
      "cell_type": "markdown",
      "metadata": {
        "id": "CkmOZITHLw-X"
      },
      "source": [
        "### Membuat Batch Training\n",
        "\n",
        "Anda menggunakan tf.data untuk membagi teks menjadi sequence yang dapat diatur. Namun sebelum memasukkan data ini ke dalam model, Anda perlu mengacak data dan mengemasnya ke dalam batch."
      ]
    },
    {
      "cell_type": "code",
      "execution_count": 26,
      "metadata": {
        "colab": {
          "base_uri": "https://localhost:8080/"
        },
        "id": "0IJrgyZILvYy",
        "outputId": "14987540-b5ef-4001-8363-5027ce1db70a"
      },
      "outputs": [
        {
          "output_type": "execute_result",
          "data": {
            "text/plain": [
              "<_PrefetchDataset element_spec=(TensorSpec(shape=(64, 100), dtype=tf.int64, name=None), TensorSpec(shape=(64, 100), dtype=tf.int64, name=None))>"
            ]
          },
          "metadata": {},
          "execution_count": 26
        }
      ],
      "source": [
        "# Batch size\n",
        "BATCH_SIZE = 64\n",
        "\n",
        "# Buffer size to shuffle the dataset\n",
        "# (TF data is designed to work with possibly infinite sequences,\n",
        "# so it doesn't attempt to shuffle the entire sequence in memory. Instead,\n",
        "# it maintains a buffer in which it shuffles elements).\n",
        "BUFFER_SIZE = 10000\n",
        "\n",
        "dataset = (\n",
        "    dataset\n",
        "    .shuffle(BUFFER_SIZE)\n",
        "    .batch(BATCH_SIZE, drop_remainder=True)\n",
        "    .prefetch(tf.data.experimental.AUTOTUNE))\n",
        "\n",
        "dataset"
      ]
    },
    {
      "cell_type": "markdown",
      "metadata": {
        "id": "rm1nm4CWL2Bu"
      },
      "source": [
        "### Buat Model\n",
        "\n",
        "Bagian ini mendefinisikan model sebagai subkelas keras.Model (untuk lebih detilnya, lihat Making new Layers and Models via subclassing).\n",
        "Model yang kita bangun memiliki 3 lapisan neural network :\n",
        "* tf.keras.layers.Embedding: Lapisan masukan. Tabel pencarian yang dapat dilatih yang akan memetakan setiap karakter-ID ke vektor dengan dimensi embedding_dim;\n",
        "* tf.keras.layers.GRU: lapisan RNN dengan ukuran unit=rnn_units (Anda juga dapat menggunakan lapisan LSTM di sini.)\n",
        "* tf.keras.layers.Dense: Lapisan keluaran, dengan keluaran vocab_size. Ini menghasilkan satu logit untuk setiap karakter dalam kosakata. Ini adalah log kemungkinan setiap karakter menurut model."
      ]
    },
    {
      "cell_type": "code",
      "execution_count": 27,
      "metadata": {
        "id": "yeAD0C-TL9T4"
      },
      "outputs": [],
      "source": [
        "# Length of the vocabulary in StringLookup Layer\n",
        "vocab_size = len(ids_from_chars.get_vocabulary())\n",
        "\n",
        "# The embedding dimension\n",
        "embedding_dim = 256\n",
        "\n",
        "# Number of RNN units\n",
        "rnn_units = 1024"
      ]
    },
    {
      "cell_type": "code",
      "execution_count": 28,
      "metadata": {
        "id": "A6CrmSfrL_NN"
      },
      "outputs": [],
      "source": [
        "class MyModel(tf.keras.Model):\n",
        "  def __init__(self, vocab_size, embedding_dim, rnn_units):\n",
        "    super().__init__(self)\n",
        "    self.embedding = tf.keras.layers.Embedding(vocab_size, embedding_dim)\n",
        "    self.gru = tf.keras.layers.GRU(rnn_units,\n",
        "                                   return_sequences=True,\n",
        "                                   return_state=True)\n",
        "    self.dense = tf.keras.layers.Dense(vocab_size)\n",
        "\n",
        "  def call(self, inputs, states=None, return_state=False, training=False):\n",
        "    x = inputs\n",
        "    x = self.embedding(x, training=training)\n",
        "    if states is None:\n",
        "      states = self.gru.get_initial_state(x)\n",
        "    x, states = self.gru(x, initial_state=states, training=training)\n",
        "    x = self.dense(x, training=training)\n",
        "\n",
        "    if return_state:\n",
        "      return x, states\n",
        "    else:\n",
        "      return x"
      ]
    },
    {
      "cell_type": "code",
      "execution_count": 29,
      "metadata": {
        "id": "LGoXppQAMBLJ"
      },
      "outputs": [],
      "source": [
        "model = MyModel(\n",
        "    vocab_size=vocab_size,\n",
        "    embedding_dim=embedding_dim,\n",
        "    rnn_units=rnn_units)"
      ]
    },
    {
      "cell_type": "markdown",
      "metadata": {
        "id": "pdoV-o1TMCBe"
      },
      "source": [
        "Untuk setiap karakter, model mencari penyematan, menjalankan GRU satu langkah waktu dengan penyematan sebagai masukan, dan menerapkan dense layer untuk menghasilkan log yang memprediksi kemungkinan log karakter berikutnya:\n",
        "\n",
        "Note: Untuk pelatihan Anda bisa menggunakan model keras.Sequential di sini. Untuk menghasilkan teks nanti, Anda harus mengelola status internal RNN. Akan lebih mudah untuk memasukkan opsi input dan output status di awal, daripada mengatur ulang arsitektur model nanti. untuk detailnya bisa dilihat Keras RNN guide."
      ]
    },
    {
      "cell_type": "markdown",
      "metadata": {
        "id": "W7GmA6d1MGQV"
      },
      "source": [
        "### Uji Model\n",
        "Coba jalankan model dan cek apakah sidah sesuai dengan output\n",
        "\n",
        "pertama, cek bentuk dari output"
      ]
    },
    {
      "cell_type": "code",
      "execution_count": 30,
      "metadata": {
        "colab": {
          "base_uri": "https://localhost:8080/"
        },
        "id": "_jsJXGILMDDR",
        "outputId": "f95c458a-fe07-4a4f-f8e5-5173bd2707e9"
      },
      "outputs": [
        {
          "output_type": "stream",
          "name": "stdout",
          "text": [
            "(64, 100, 66) # (batch_size, sequence_length, vocab_size)\n"
          ]
        }
      ],
      "source": [
        "for input_example_batch, target_example_batch in dataset.take(1):\n",
        "    example_batch_predictions = model(input_example_batch)\n",
        "    print(example_batch_predictions.shape, \"# (batch_size, sequence_length, vocab_size)\")"
      ]
    },
    {
      "cell_type": "markdown",
      "metadata": {
        "id": "bUbtU8xeMLdr"
      },
      "source": [
        "Dalam contoh di atas, panjang urutan masukan adalah 100 tetapi model dapat dijalankan pada masukan dengan panjang berapa pun:"
      ]
    },
    {
      "cell_type": "code",
      "execution_count": 31,
      "metadata": {
        "colab": {
          "base_uri": "https://localhost:8080/"
        },
        "id": "-mX35I4pMLyL",
        "outputId": "0231aba9-4879-48d7-f2d0-7f15a6a99588"
      },
      "outputs": [
        {
          "output_type": "stream",
          "name": "stdout",
          "text": [
            "Model: \"my_model\"\n",
            "_________________________________________________________________\n",
            " Layer (type)                Output Shape              Param #   \n",
            "=================================================================\n",
            " embedding (Embedding)       multiple                  16896     \n",
            "                                                                 \n",
            " gru (GRU)                   multiple                  3938304   \n",
            "                                                                 \n",
            " dense (Dense)               multiple                  67650     \n",
            "                                                                 \n",
            "=================================================================\n",
            "Total params: 4022850 (15.35 MB)\n",
            "Trainable params: 4022850 (15.35 MB)\n",
            "Non-trainable params: 0 (0.00 Byte)\n",
            "_________________________________________________________________\n"
          ]
        }
      ],
      "source": [
        "model.summary()"
      ]
    },
    {
      "cell_type": "markdown",
      "metadata": {
        "id": "T5TmIUxsMMm1"
      },
      "source": [
        "Untuk mendapatkan prediksi aktual dari model, Anda perlu mengambil sampel dari distribusi keluaran, untuk mendapatkan indeks karakter aktual. Distribusi ini ditentukan oleh logit pada kosakata karakter. Catatan: Penting untuk mengambil sampel dari distribusi ini karena mengambil argmax dari distribusi tersebut dapat dengan mudah membuat model terjebak dalam infinote loop. Cobalah untuk contoh pertama di batch:"
      ]
    },
    {
      "cell_type": "code",
      "execution_count": 33,
      "metadata": {
        "id": "qBdAY7Y1MN_b"
      },
      "outputs": [],
      "source": [
        "sampled_indices = tf.random.categorical(example_batch_predictions[0], num_samples=1)\n",
        "sampled_indices = tf.squeeze(sampled_indices, axis=-1).numpy()"
      ]
    },
    {
      "cell_type": "markdown",
      "metadata": {
        "id": "azbO_38lMU-e"
      },
      "source": [
        "Hal ini memberi kita, pada setiap langkah waktu, prediksi indeks karakter berikutnya:"
      ]
    },
    {
      "cell_type": "code",
      "execution_count": 34,
      "metadata": {
        "colab": {
          "base_uri": "https://localhost:8080/"
        },
        "id": "ORwRHic6MV7Z",
        "outputId": "51880fad-f41d-42b1-fc6e-c38680192420"
      },
      "outputs": [
        {
          "output_type": "execute_result",
          "data": {
            "text/plain": [
              "array([48,  5,  1, 27, 48, 56, 38, 49, 21, 38,  4,  4,  4, 56, 16, 24, 46,\n",
              "       49, 59, 43, 60, 34, 29, 34,  5, 25, 14, 14, 40,  4, 42,  7, 49, 20,\n",
              "       14, 19, 41, 55, 17,  6, 39, 23, 41, 11, 52,  1, 26,  5,  3, 38, 27,\n",
              "       18, 42, 36, 18, 18, 18, 44,  3,  8, 63, 21, 27, 19, 47, 34, 50,  6,\n",
              "       51, 63, 35, 60,  6, 49, 64,  7, 65, 30, 43, 26, 22, 57, 20, 54,  7,\n",
              "       34,  8, 55, 25, 29,  3, 46,  9, 51, 52, 20, 47,  5, 14, 62])"
            ]
          },
          "metadata": {},
          "execution_count": 34
        }
      ],
      "source": [
        "sampled_indices"
      ]
    },
    {
      "cell_type": "markdown",
      "metadata": {
        "id": "BU35O_-NMX7n"
      },
      "source": [
        "Dekode kode berikut untuk melihat teks yang diprediksi oleh model tidak terlatih ini:"
      ]
    },
    {
      "cell_type": "code",
      "execution_count": 35,
      "metadata": {
        "colab": {
          "base_uri": "https://localhost:8080/"
        },
        "id": "J8TbBhGJMYTS",
        "outputId": "e84ceabb-96bc-4df4-d7f8-64dd6e05f87a"
      },
      "outputs": [
        {
          "output_type": "stream",
          "name": "stdout",
          "text": [
            "Input:\n",
            " b\" war, but at his nurse's tears\\nHe whined and roar'd away your victory,\\nThat pages blush'd at him and\"\n",
            "\n",
            "Next Char Predictions:\n",
            " b\"i&\\nNiqYjHY$$$qCKgjtduUPU&LAAa$c,jGAFbpD'ZJb:m\\nM&!YNEcWEEEe!-xHNFhUk'lxVu'jy,zQdMIrGo,U-pLP!g.lmGh&Aw\"\n"
          ]
        }
      ],
      "source": [
        "print(\"Input:\\n\", text_from_ids(input_example_batch[0]).numpy())\n",
        "print()\n",
        "print(\"Next Char Predictions:\\n\", text_from_ids(sampled_indices).numpy())"
      ]
    },
    {
      "cell_type": "markdown",
      "metadata": {
        "id": "g7s6EDdfMbFF"
      },
      "source": [
        "### Train Model\n",
        "\n",
        "Pada titik ini permasalahan dapat dianggap sebagai permasalahan klasifikasi standar. Permasalahan dapat disimpulkan dengan : Berdasarkan status RNN sebelumnya, dan masukan langkah kali ini, prediksi kelas karakter berikutnya"
      ]
    },
    {
      "cell_type": "markdown",
      "metadata": {
        "id": "v5iAidpMMelR"
      },
      "source": [
        "### Tambahan Optimizer dan fungsi loss\n",
        "\n",
        "loss function tf.keras.losses.sparse_categorical_crossentropy standar berfungsi dalam kasus ini karena diterapkan di seluruh dimensi terakhir prediksi. Karena model Anda mengembalikan logits, Anda perlu mengatur flag from_logits."
      ]
    },
    {
      "cell_type": "code",
      "execution_count": 36,
      "metadata": {
        "id": "bDw37ohOMdiA"
      },
      "outputs": [],
      "source": [
        "loss = tf.losses.SparseCategoricalCrossentropy(from_logits=True)"
      ]
    },
    {
      "cell_type": "code",
      "execution_count": 37,
      "metadata": {
        "colab": {
          "base_uri": "https://localhost:8080/"
        },
        "id": "n89Mvp5zMlmE",
        "outputId": "6cdd0d00-4e7d-447d-d33c-1387c477174a"
      },
      "outputs": [
        {
          "output_type": "stream",
          "name": "stdout",
          "text": [
            "Prediction shape:  (64, 100, 66)  # (batch_size, sequence_length, vocab_size)\n",
            "Mean loss:         tf.Tensor(4.1903167, shape=(), dtype=float32)\n"
          ]
        }
      ],
      "source": [
        "example_batch_mean_loss = loss(target_example_batch, example_batch_predictions)\n",
        "print(\"Prediction shape: \", example_batch_predictions.shape, \" # (batch_size, sequence_length, vocab_size)\")\n",
        "print(\"Mean loss:        \", example_batch_mean_loss)"
      ]
    },
    {
      "cell_type": "markdown",
      "metadata": {
        "id": "AjgJ4hveMnEu"
      },
      "source": [
        "Model yang baru diinisialisasi tidak boleh terlalu yakin dengan dirinya sendiri, semua log keluaran harus memiliki besaran yang sama. Untuk mengonfirmasi hal ini, Anda dapat memeriksa bahwa eksponensial dari loss rata-rata harus kira-kira sama dengan ukuran kosakata. Loss yang jauh lebih tinggi berarti model tersebut yakin akan jawaban yang salah, dan memiliki inisialisasi yang buruk:"
      ]
    },
    {
      "cell_type": "code",
      "execution_count": 38,
      "metadata": {
        "colab": {
          "base_uri": "https://localhost:8080/"
        },
        "id": "mYZzCSqvMobp",
        "outputId": "3e0f81b7-2e1a-4df3-f071-447b7d40939b"
      },
      "outputs": [
        {
          "output_type": "execute_result",
          "data": {
            "text/plain": [
              "66.0437"
            ]
          },
          "metadata": {},
          "execution_count": 38
        }
      ],
      "source": [
        "tf.exp(example_batch_mean_loss).numpy()"
      ]
    },
    {
      "cell_type": "markdown",
      "metadata": {
        "id": "sRRYMF4KMp0u"
      },
      "source": [
        "Konfigurasikan prosedur pelatihan menggunakan metode tf.keras.Model.compile. Gunakan tf.keras.optimizers.Adam dengan argumen default dan fungsi loss."
      ]
    },
    {
      "cell_type": "code",
      "execution_count": 39,
      "metadata": {
        "id": "WyDpNSF6MqzG"
      },
      "outputs": [],
      "source": [
        "model.compile(optimizer='adam', loss=loss)"
      ]
    },
    {
      "cell_type": "markdown",
      "metadata": {
        "id": "VCxLxehIMsqW"
      },
      "source": [
        "### Konfigurasi Checkpoints\n",
        "\n",
        "Gunakan tf.keras.callbacks.ModelCheckpoint untuk memastikan bahwa checkpoint disimpan selama pelatihan:"
      ]
    },
    {
      "cell_type": "code",
      "execution_count": 40,
      "metadata": {
        "id": "TvL8hn_KMwy7"
      },
      "outputs": [],
      "source": [
        "# Directory where the checkpoints will be saved\n",
        "checkpoint_dir = './training_checkpoints'\n",
        "# Name of the checkpoint files\n",
        "checkpoint_prefix = os.path.join(checkpoint_dir, \"ckpt_{epoch}\")\n",
        "\n",
        "checkpoint_callback = tf.keras.callbacks.ModelCheckpoint(\n",
        "    filepath=checkpoint_prefix,\n",
        "    save_weights_only=True)"
      ]
    },
    {
      "cell_type": "markdown",
      "metadata": {
        "id": "Dq71prl4MyhW"
      },
      "source": [
        "### Lakukan Proses Training\n",
        "\n",
        "Agar waktu pelatihan tidak terlalu lama, gunakan 10 epoch untuk melatih model. Di Colab, setel runtime ke GPU untuk pelatihan yang lebih cepat."
      ]
    },
    {
      "cell_type": "code",
      "execution_count": 41,
      "metadata": {
        "id": "tqAtk2XTM0zU"
      },
      "outputs": [],
      "source": [
        "EPOCHS = 20"
      ]
    },
    {
      "cell_type": "code",
      "execution_count": 42,
      "metadata": {
        "colab": {
          "base_uri": "https://localhost:8080/"
        },
        "id": "gdOBZ0VKM12o",
        "outputId": "83a11d37-eba4-4c40-a5d7-8a1b69aa7818"
      },
      "outputs": [
        {
          "output_type": "stream",
          "name": "stdout",
          "text": [
            "Epoch 1/20\n",
            "172/172 [==============================] - 14s 53ms/step - loss: 2.7320\n",
            "Epoch 2/20\n",
            "172/172 [==============================] - 11s 51ms/step - loss: 2.0033\n",
            "Epoch 3/20\n",
            "172/172 [==============================] - 10s 51ms/step - loss: 1.7295\n",
            "Epoch 4/20\n",
            "172/172 [==============================] - 10s 52ms/step - loss: 1.5656\n",
            "Epoch 5/20\n",
            "172/172 [==============================] - 10s 51ms/step - loss: 1.4636\n",
            "Epoch 6/20\n",
            "172/172 [==============================] - 10s 51ms/step - loss: 1.3939\n",
            "Epoch 7/20\n",
            "172/172 [==============================] - 12s 52ms/step - loss: 1.3399\n",
            "Epoch 8/20\n",
            "172/172 [==============================] - 11s 52ms/step - loss: 1.2953\n",
            "Epoch 9/20\n",
            "172/172 [==============================] - 11s 52ms/step - loss: 1.2541\n",
            "Epoch 10/20\n",
            "172/172 [==============================] - 11s 52ms/step - loss: 1.2147\n",
            "Epoch 11/20\n",
            "172/172 [==============================] - 11s 54ms/step - loss: 1.1760\n",
            "Epoch 12/20\n",
            "172/172 [==============================] - 11s 53ms/step - loss: 1.1352\n",
            "Epoch 13/20\n",
            "172/172 [==============================] - 12s 53ms/step - loss: 1.0938\n",
            "Epoch 14/20\n",
            "172/172 [==============================] - 12s 53ms/step - loss: 1.0489\n",
            "Epoch 15/20\n",
            "172/172 [==============================] - 11s 54ms/step - loss: 1.0029\n",
            "Epoch 16/20\n",
            "172/172 [==============================] - 11s 53ms/step - loss: 0.9527\n",
            "Epoch 17/20\n",
            "172/172 [==============================] - 11s 54ms/step - loss: 0.9010\n",
            "Epoch 18/20\n",
            "172/172 [==============================] - 11s 54ms/step - loss: 0.8480\n",
            "Epoch 19/20\n",
            "172/172 [==============================] - 11s 53ms/step - loss: 0.7962\n",
            "Epoch 20/20\n",
            "172/172 [==============================] - 12s 53ms/step - loss: 0.7457\n"
          ]
        }
      ],
      "source": [
        "history = model.fit(dataset, epochs=EPOCHS, callbacks=[checkpoint_callback])"
      ]
    },
    {
      "cell_type": "markdown",
      "metadata": {
        "id": "mEIHEnPAM8r6"
      },
      "source": [
        "### Generate Teks\n",
        "\n",
        "Cara termudah untuk menghasilkan teks dengan model ini adalah dengan menjalankannya dalam loop, dan menyimpan status internal model saat Anda menjalankannya.\n",
        "\n",
        "![image.png](data:image/png;base64,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)\n",
        "\n",
        "Setiap kali Anda memanggil model, Anda memasukkan beberapa teks dan state internal. Model mengembalikan prediksi untuk karakter berikutnya dan state barunya. Masukkan kembali prediksi dan state ke model untuk terus menghasilkan teks.\n",
        "\n",
        "Berikut ini membuat prediksi satu langkah:"
      ]
    },
    {
      "cell_type": "code",
      "execution_count": 43,
      "metadata": {
        "id": "zDYTX41aNDYk"
      },
      "outputs": [],
      "source": [
        "class OneStep(tf.keras.Model):\n",
        "  def __init__(self, model, chars_from_ids, ids_from_chars, temperature=1.0):\n",
        "    super().__init__()\n",
        "    self.temperature = temperature\n",
        "    self.model = model\n",
        "    self.chars_from_ids = chars_from_ids\n",
        "    self.ids_from_chars = ids_from_chars\n",
        "\n",
        "    # Create a mask to prevent \"[UNK]\" from being generated.\n",
        "    skip_ids = self.ids_from_chars(['[UNK]'])[:, None]\n",
        "    sparse_mask = tf.SparseTensor(\n",
        "        # Put a -inf at each bad index.\n",
        "        values=[-float('inf')]*len(skip_ids),\n",
        "        indices=skip_ids,\n",
        "        # Match the shape to the vocabulary\n",
        "        dense_shape=[len(ids_from_chars.get_vocabulary())])\n",
        "    self.prediction_mask = tf.sparse.to_dense(sparse_mask)\n",
        "\n",
        "  @tf.function\n",
        "  def generate_one_step(self, inputs, states=None):\n",
        "    # Convert strings to token IDs.\n",
        "    input_chars = tf.strings.unicode_split(inputs, 'UTF-8')\n",
        "    input_ids = self.ids_from_chars(input_chars).to_tensor()\n",
        "\n",
        "    # Run the model.\n",
        "    # predicted_logits.shape is [batch, char, next_char_logits]\n",
        "    predicted_logits, states = self.model(inputs=input_ids, states=states,\n",
        "                                          return_state=True)\n",
        "    # Only use the last prediction.\n",
        "    predicted_logits = predicted_logits[:, -1, :]\n",
        "    predicted_logits = predicted_logits/self.temperature\n",
        "    # Apply the prediction mask: prevent \"[UNK]\" from being generated.\n",
        "    predicted_logits = predicted_logits + self.prediction_mask\n",
        "\n",
        "    # Sample the output logits to generate token IDs.\n",
        "    predicted_ids = tf.random.categorical(predicted_logits, num_samples=1)\n",
        "    predicted_ids = tf.squeeze(predicted_ids, axis=-1)\n",
        "\n",
        "    # Convert from token ids to characters\n",
        "    predicted_chars = self.chars_from_ids(predicted_ids)\n",
        "\n",
        "    # Return the characters and model state.\n",
        "    return predicted_chars, states"
      ]
    },
    {
      "cell_type": "code",
      "execution_count": 44,
      "metadata": {
        "id": "Vzz44wmHNGjn"
      },
      "outputs": [],
      "source": [
        "one_step_model = OneStep(model, chars_from_ids, ids_from_chars)"
      ]
    },
    {
      "cell_type": "markdown",
      "metadata": {
        "id": "zhw7gANcNJ28"
      },
      "source": [
        "Jalankan secara berulang untuk menghasilkan beberapa teks. Melihat teks yang dihasilkan, Anda akan melihat model mengetahui kapan harus menggunakan huruf besar, membuat paragraf, dan meniru kosakata menulis seperti Shakespeare. Karena sedikitnya jumlah epoch pelatihan, model belum belajar membentuk kalimat runtut."
      ]
    },
    {
      "cell_type": "code",
      "execution_count": 45,
      "metadata": {
        "colab": {
          "base_uri": "https://localhost:8080/"
        },
        "id": "MCCJI1X3NLOp",
        "outputId": "f2e019d3-731f-4501-979d-01686f6dc759"
      },
      "outputs": [
        {
          "output_type": "stream",
          "name": "stdout",
          "text": [
            "ROMEO:\n",
            "O Blow, to come away!\n",
            "Do you not set?\n",
            "\n",
            "Third Servingman:\n",
            "I think, Master hath brought Towentry.\n",
            "\n",
            "MONTAGUE:\n",
            "But this the judgms-hove needs with strange troubless likely\n",
            "To think your profosed pulasoment.\n",
            "\n",
            "BIANCA:\n",
            "Sister, cooling:\n",
            "If I did seeing summer villain!\n",
            "But what, my lord!\n",
            "\n",
            "CORIOLANUS:\n",
            "My gravio\n",
            "A cellational gate!\n",
            "\n",
            "AUFIDIUS:\n",
            "My virtue may march on,\n",
            "And say 'banishment! The trumpets sea\n",
            "should be prevail'd; and parting with me unto myself:\n",
            "'Tis like a horse!\n",
            "\n",
            "CATESBY:\n",
            "Bad am I sitting?\n",
            "\n",
            "CATESBY:\n",
            "My lord!\n",
            "\n",
            "KING RICHARD III:\n",
            "Madam, I'll have no name of lendnance and suspect\n",
            "Lord Stanliam crue as free wanders to so.\n",
            "\n",
            "DUCHESS OF YORK:\n",
            "Why, thy nob locks the heaven stopp'd in my child,\n",
            "When the danger of my father, Vironard!\n",
            "the means that knew'st the very boy?\n",
            "\n",
            "RATCLIFF:\n",
            "Matame! you shall pocket.\n",
            "Where is your cries, dear father, good morrow, Clifford! thy need coming to the crown\n",
            "I'll lean to aftect offences with words:\n",
            "We could for fares. All things,\n",
            "Untherethings and our eyes ado \n",
            "\n",
            "________________________________________________________________________________\n",
            "\n",
            "Run time: 3.1976232528686523\n"
          ]
        }
      ],
      "source": [
        "start = time.time()\n",
        "states = None\n",
        "next_char = tf.constant(['ROMEO:'])\n",
        "result = [next_char]\n",
        "\n",
        "for n in range(1000):\n",
        "  next_char, states = one_step_model.generate_one_step(next_char, states=states)\n",
        "  result.append(next_char)\n",
        "\n",
        "result = tf.strings.join(result)\n",
        "end = time.time()\n",
        "print(result[0].numpy().decode('utf-8'), '\\n\\n' + '_'*80)\n",
        "print('\\nRun time:', end - start)"
      ]
    },
    {
      "cell_type": "markdown",
      "metadata": {
        "id": "LPhSpkebNM7a"
      },
      "source": [
        "Hal termudah yang dapat Anda lakukan untuk meningkatkan hasil adalah dengan melatihnya lebih lama (coba EPOCHS = 30). Anda juga dapat bereksperimen dengan string awal yang berbeda, mencoba menambahkan lapisan RNN lain untuk meningkatkan akurasi model, atau menyesuaikan parameter suhu untuk menghasilkan prediksi yang kurang lebih acak.\n",
        "\n",
        "Jika Anda ingin model menghasilkan teks lebih cepat, hal termudah yang dapat Anda lakukan adalah membuat teks secara batch. Pada contoh di bawah, model menghasilkan 5 keluaran dalam waktu yang hampir sama dengan waktu yang dibutuhkan untuk menghasilkan 1 keluaran di atas."
      ]
    },
    {
      "cell_type": "code",
      "execution_count": 46,
      "metadata": {
        "colab": {
          "base_uri": "https://localhost:8080/"
        },
        "id": "AO-FenmgNOuH",
        "outputId": "63f61e81-b04d-4264-a88c-25dc26ee9eef"
      },
      "outputs": [
        {
          "output_type": "stream",
          "name": "stdout",
          "text": [
            "tf.Tensor(\n",
            "[b\"ROMEO:\\nMy gracious lord, I'll make a drunken saint.\\n\\nLord:\\nO proffser, the year, and let us spare mine enterisper.\\nDid not you not? Romeo! O, plagent! an old gate on me?\\nHeaven keep you from the Earl of Wiltshire, what lies sometime\\nThat thou offented men your suits?\\n\\nServant:\\nHold, gentle maiden, I defy thy hand;\\nBut 'twas thy heaven for your father,\\nThe jest anglish caps and stop out while.\\nAre you no conducted bootled off?\\n\\nServant:\\nWhy, hast thou, be men's. And was the duke?\\n'Clead o'er that kings and hearts, to speak,\\nYour Rome are for that: then slew thy father,\\nThe one garden I to chase no more? I'll ha' no tedious and\\nproportion and thy fortunes too much blood.\\n\\nVINCENTIO:\\nThis is another Mangland; for then if I were so in lazente.\\nGod frign, by my troth, my brother with thy soldiers,\\nThat might none shunn'd him, Ashis the Lady Grey,\\nMore mild, thy kingdom of the Service,\\nPrepare thy hand exchange of Gloucester's tears!\\n\\nKING EDWARD IV:\\nO, bid me lay, do not jaught my threats?\\nThis v\"\n",
            " b\"ROMEO:\\nLet me have:\\nShottem off the deed, to make it as a\\nperson;--but that you have offemn's news, that nouth were knows,\\nAnd death that IEry suck deeds language.\\nMay I be open, how much it thee? Make that\\nFlower before this foot I'll answer thee was in fortune of me:\\nFor I myself accounta like behavior's honesties:\\nNor ne'er shall make a quarter methink your horses\\nWill be perforce with thee: served the warrant\\nThey are a conduct up in his.\\n\\nWARWICK:\\nO pitty, sir. How feel't be Master Froth?\\nWho calls so long?\\n\\nHENRY BOLINGBROKE:\\nNay, stay we near;\\nAnd let it go and sent to the purpose.' Justius!\\n\\nRICHMOND:\\nThat 'sired your high deserving for a jewel aid\\nOn my thumb, as she had seen't it?\\nAnd Till the sea that black for you:\\nUpon my life, for hath no stain good days,\\nIt is our mind deliver and humour\\nFor love been that blood came from Lesding\\nShould, for then, as a tyrant. The firmer of the ireful watch is\\ncome from his design? I am now\\nTo cut him when he was more strong to stay.\\nThe time \"\n",
            " b\"ROMEO:\\nO, peace, drink, love, and cross, and we shall marrow.\\nLord Angelous sees! O Richard! O citizens,\\nTo blood farewell; and therefore, fair and writ.\\nThurefore upon my mistresses must I speak;\\nAnd pardon with these saxtures?' and he slain\\nA schoel, above me to thy friend and men\\nTo pleg a while by a fooler in my deed would speak,\\nIf she be as intentry, as I said who is now\\nTo cut off all this good friend provet their fearful child.\\nO Pretty cousin, I deckly to my cousin-lay,\\nOr else depart to Lammas--if you like you all,\\nTo accept she strongly was dead; that thou command's spirt!\\n\\nJULIET:\\nNo, no: this same I as entertain'st thy manner tog,\\nAnd watch your soldiers, and the goodness chation\\nTo tell us run, with unruly body's motion\\nFor me to lose your bridge,\\nIt was a father prayer out.\\n\\nLORD FITZWATER:\\nMy lord, have patience.\\n\\nLADY ANNE:\\nAre you a breast! An has our duteous sin! Fast, hanging affected\\nto the mind her caps as she; and there\\nShe used up to the best of thy forms.\\n\\nGRUMIO:\\nWh\"\n",
            " b\"ROMEO:\\nNor more, I think, the orchard city God,\\nOur extremity the dull and so landle.\\n\\nDUKE VINCENTIO:\\nYou would blow worth pinch all which, and his noble cause of\\nhis.\\n\\nYORK:\\nThey say the king my daughter of detrectly\\nAre they our kings, made a sworn tradest for preature,\\nAnd see it tears her face and distinctly\\nAnd plucker down of boots by casting flatter:\\nThe appellants lives in heaven. How say you fid?\\n\\nGRUMIO:\\nNay, ay, but are not cherish well.\\nHow now! what news abroad? in this?\\n\\nSICINIUS:\\nWe are undone!\\nVoesens of thee! who is there?\\n\\nBUCKINGHAM:\\nAy.\\n\\nPETRUCHIO:\\nTale named with his horse.\\n\\nFRIAR LAURENCE:\\nBid them, no motser, now I fear them well:\\nThe world is no lesser than thy shouts;\\nPreshate be maid or ro: I saw the dire.\\n\\nJULIET:\\nWhat is't o'clock?\\n\\nBIONDELLO:\\nNay, but speaks of you.\\n\\nProvost:\\nHow did she may well?\\n\\nEDWARD:\\nI am his bold, I'll purchase my person all\\nI wather may we pass! A wall away;\\nAnd where you shouldst take it off but never\\nOur tradesming age each condects. H\"\n",
            " b\"ROMEO:\\nHis place, then, noble lords, for Romeo's hang: good Margaret,\\nBut my three looks for few grace and it; for put us to\\nWhich thinks of name of wine. Give me a word: yet he\\nis to be there tricks.\\n\\nSecond Capulet:\\nBoth fought so power the volumes. Come,\\nOne on my fault, to age he did win me:\\nMine own lords, my gracious unresitn trial.\\n\\nDUKE VINCENTIO:\\nBy my treasting war, demand, be I kindly:\\nHe has a thief another sense, well you not,\\nBring forth to plead for you.\\n\\nBUCKINGHAM:\\nWell, go to admit my cursed self.\\n\\nGLOUCESTER:\\nSay they are so?\\n\\nBUCKINGHAM:\\nMy lord, she must knock you not.\\n\\nFirst Herald:\\nHis several flooding is a woman of this very gawe,\\nNo courtier, 'celpise who thou takest for fear.\\nUpon Themses, thou'st as the people sting?\\n\\nThird Roman, to your noble\\nLullight while the head of the duke's falconers,\\nhath made but want within these are.\\n\\nSecond Murderer:\\nA man of comfort.\\n\\nPERDITA:\\nMy lord!\\n\\nDUKE VINCENTIO:\\nOffer the Duke of Norfolk, go but wash'd; they know me\\nnot to act \"], shape=(5,), dtype=string) \n",
            "\n",
            "________________________________________________________________________________\n",
            "\n",
            "Run time: 3.198467493057251\n"
          ]
        }
      ],
      "source": [
        "start = time.time()\n",
        "states = None\n",
        "next_char = tf.constant(['ROMEO:', 'ROMEO:', 'ROMEO:', 'ROMEO:', 'ROMEO:'])\n",
        "result = [next_char]\n",
        "\n",
        "for n in range(1000):\n",
        "  next_char, states = one_step_model.generate_one_step(next_char, states=states)\n",
        "  result.append(next_char)\n",
        "\n",
        "result = tf.strings.join(result)\n",
        "end = time.time()\n",
        "print(result, '\\n\\n' + '_'*80)\n",
        "print('\\nRun time:', end - start)"
      ]
    },
    {
      "cell_type": "markdown",
      "metadata": {
        "id": "CogZedaKNRO3"
      },
      "source": [
        "### Ekspor Model Generator\n",
        "\n",
        "Model satu langkah ini dapat dengan mudah disimpan dan digunakan kembali, memungkinkan Anda menggunakannya di mana pun tf.saved_model diterima."
      ]
    },
    {
      "cell_type": "code",
      "execution_count": 47,
      "metadata": {
        "colab": {
          "base_uri": "https://localhost:8080/"
        },
        "id": "H2H-4Z-VNTJw",
        "outputId": "4523682a-878f-4304-fef7-ede429bb0743"
      },
      "outputs": [
        {
          "output_type": "stream",
          "name": "stderr",
          "text": [
            "WARNING:tensorflow:Skipping full serialization of Keras layer <__main__.OneStep object at 0x781144dade70>, because it is not built.\n",
            "WARNING:tensorflow:Model's `__init__()` arguments contain non-serializable objects. Please implement a `get_config()` method in the subclassed Model for proper saving and loading. Defaulting to empty config.\n",
            "WARNING:tensorflow:Model's `__init__()` arguments contain non-serializable objects. Please implement a `get_config()` method in the subclassed Model for proper saving and loading. Defaulting to empty config.\n"
          ]
        }
      ],
      "source": [
        "tf.saved_model.save(one_step_model, 'one_step')\n",
        "one_step_reloaded = tf.saved_model.load('one_step')"
      ]
    },
    {
      "cell_type": "code",
      "execution_count": 48,
      "metadata": {
        "colab": {
          "base_uri": "https://localhost:8080/"
        },
        "id": "E-D1LkG6NUjW",
        "outputId": "9f656489-6f01-48d9-ac93-fa60b948de3f"
      },
      "outputs": [
        {
          "output_type": "stream",
          "name": "stdout",
          "text": [
            "ROMEO:\n",
            "Please you now, do you know the king would have on't,\n",
            "We'll pass the head-flewing of thy cabin:\n",
            "I w\n"
          ]
        }
      ],
      "source": [
        "states = None\n",
        "next_char = tf.constant(['ROMEO:'])\n",
        "result = [next_char]\n",
        "\n",
        "for n in range(100):\n",
        "  next_char, states = one_step_reloaded.generate_one_step(next_char, states=states)\n",
        "  result.append(next_char)\n",
        "\n",
        "print(tf.strings.join(result)[0].numpy().decode(\"utf-8\"))"
      ]
    }
  ],
  "metadata": {
    "accelerator": "GPU",
    "colab": {
      "provenance": []
    },
    "kernelspec": {
      "display_name": "Python 3",
      "name": "python3"
    },
    "language_info": {
      "name": "python"
    }
  },
  "nbformat": 4,
  "nbformat_minor": 0
}